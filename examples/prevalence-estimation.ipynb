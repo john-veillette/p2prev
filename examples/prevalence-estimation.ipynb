{
 "cells": [
  {
   "cell_type": "markdown",
   "id": "14d7e271-fe01-4369-9a3d-f429df8b72d3",
   "metadata": {},
   "source": [
    "### P-curve Mixture Model for population prevalance estimation"
   ]
  },
  {
   "cell_type": "code",
   "execution_count": 1,
   "id": "a8f68302-0bef-4b10-a9d6-7482c1385ef6",
   "metadata": {},
   "outputs": [],
   "source": [
    "# if running from 'examples' directory of p2prev repo, \n",
    "# we need to add parent directory to module search path\n",
    "# so that p2prev module can be imported\n",
    "# (not necessary if you've pip installed p2prev module)\n",
    "import sys\n",
    "import os\n",
    "cwd = os.getcwd()\n",
    "pardir = os.path.abspath(os.path.join(cwd, os.pardir))\n",
    "sys.path.append(pardir)"
   ]
  },
  {
   "cell_type": "code",
   "execution_count": 2,
   "id": "b50d0879-5922-4a0a-9085-46b2f66f1963",
   "metadata": {},
   "outputs": [],
   "source": [
    "from matplotlib import pyplot as plt\n",
    "import seaborn as sns\n",
    "import numpy as np\n",
    "import pandas as pd\n",
    "\n",
    "from p2prev import PCurveMixture"
   ]
  },
  {
   "cell_type": "code",
   "execution_count": 3,
   "id": "10641ea0-b00b-46e9-a575-f98ce63c46c6",
   "metadata": {},
   "outputs": [],
   "source": [
    "pvals = [0.00060, 0.02999, 0.04939, 0.94601]\n",
    "pvals = np.array(pvals)\n",
    "\n",
    "# intialize model with observed p-values,\n",
    "# a prior on the scale of the effect size,\n",
    "# and any valid arguments to pymc.sample(),\n",
    "model = PCurveMixture(\n",
    "    # model arguments:\n",
    "    pvals, effect_size_prior = 1.5, \n",
    "    # sampler arguments:\n",
    "    draws = 5000, # samples *per chain*, default 5 chains\n",
    "    target_accept = .95\n",
    ")"
   ]
  },
  {
   "cell_type": "code",
   "execution_count": 4,
   "id": "7dc3ebe3-3da9-4479-b49f-8781217650eb",
   "metadata": {},
   "outputs": [
    {
     "data": {
      "image/png": "[encoded data removed]",
      "text/plain": [
       "<Figure size 640x480 with 1 Axes>"
      ]
     },
     "metadata": {},
     "output_type": "display_data"
    },
    {
     "name": "stdout",
     "output_type": "stream",
     "text": [
      "Prior predictive power at 0.05, 90% HDI: [0.05001588 0.96062395]\n"
     ]
    }
   ],
   "source": [
    "def plot_power_simulation(pow_df, alpha):\n",
    "    sns.kdeplot(data = pow_df, x = 'power', y = 'prevalence', fill = True)\n",
    "    plt.xlabel(r'power at $\\alpha = %.02f$'%alpha)\n",
    "    plt.ylabel('population prevalence')\n",
    "    plt.xlim(0, 1)\n",
    "    plt.ylim(0, 1)\n",
    "    plt.show()\n",
    "\n",
    "alpha = .05\n",
    "pow_df = model.prior_predictive_power(alpha)\n",
    "plot_power_simulation(pow_df, alpha)\n",
    "\n",
    "hdi_prob = .9\n",
    "hdi = model.prior_predictive_power_hdi(alpha, hdi_prob)\n",
    "print('Prior predictive power at %.02f, %d%% HDI:'%(alpha, 100*hdi_prob), hdi)"
   ]
  },
  {
   "cell_type": "code",
   "execution_count": 5,
   "id": "5cb4d23c-9298-4752-bf70-63817c63cca7",
   "metadata": {},
   "outputs": [
    {
     "name": "stderr",
     "output_type": "stream",
     "text": [
      "Auto-assigning NUTS sampler...\n",
      "Initializing NUTS using jitter+adapt_diag...\n",
      "Multiprocess sampling (5 chains in 5 jobs)\n",
      "NUTS: [effect_size, prevalence]\n"
     ]
    },
    {
     "data": {
      "application/vnd.jupyter.widget-view+json": {
       "model_id": "1a069ccf0a6f4b9397aaa9f11e550940",
       "version_major": 2,
       "version_minor": 0
      },
      "text/plain": [
       "Output()"
      ]
     },
     "metadata": {},
     "output_type": "display_data"
    },
    {
     "data": {
      "text/html": [
       "<pre style=\"white-space:pre;overflow-x:auto;line-height:normal;font-family:Menlo,'DejaVu Sans Mono',consolas,'Courier New',monospace\"></pre>\n"
      ],
      "text/plain": []
     },
     "metadata": {},
     "output_type": "display_data"
    },
    {
     "data": {
      "text/html": [
       "<pre style=\"white-space:pre;overflow-x:auto;line-height:normal;font-family:Menlo,'DejaVu Sans Mono',consolas,'Courier New',monospace\">\n",
       "</pre>\n"
      ],
      "text/plain": [
       "\n"
      ]
     },
     "metadata": {},
     "output_type": "display_data"
    },
    {
     "name": "stderr",
     "output_type": "stream",
     "text": [
      "Sampling 5 chains for 1_000 tune and 5_000 draw iterations (5_000 + 25_000 draws total) took 25 seconds.\n"
     ]
    },
    {
     "data": {
      "application/vnd.jupyter.widget-view+json": {
       "model_id": "7e7b65be75674117b48bce0a8ae092d8",
       "version_major": 2,
       "version_minor": 0
      },
      "text/plain": [
       "Output()"
      ]
     },
     "metadata": {},
     "output_type": "display_data"
    },
    {
     "data": {
      "text/html": [
       "<pre style=\"white-space:pre;overflow-x:auto;line-height:normal;font-family:Menlo,'DejaVu Sans Mono',consolas,'Courier New',monospace\"></pre>\n"
      ],
      "text/plain": []
     },
     "metadata": {},
     "output_type": "display_data"
    },
    {
     "data": {
      "text/html": [
       "<pre style=\"white-space:pre;overflow-x:auto;line-height:normal;font-family:Menlo,'DejaVu Sans Mono',consolas,'Courier New',monospace\">\n",
       "</pre>\n"
      ],
      "text/plain": [
       "\n"
      ]
     },
     "metadata": {},
     "output_type": "display_data"
    },
    {
     "data": {
      "text/html": [
       "<div>\n",
       "<style scoped>\n",
       "    .dataframe tbody tr th:only-of-type {\n",
       "        vertical-align: middle;\n",
       "    }\n",
       "\n",
       "    .dataframe tbody tr th {\n",
       "        vertical-align: top;\n",
       "    }\n",
       "\n",
       "    .dataframe thead th {\n",
       "        text-align: right;\n",
       "    }\n",
       "</style>\n",
       "<table border=\"1\" class=\"dataframe\">\n",
       "  <thead>\n",
       "    <tr style=\"text-align: right;\">\n",
       "      <th></th>\n",
       "      <th>mean</th>\n",
       "      <th>sd</th>\n",
       "      <th>hdi_3%</th>\n",
       "      <th>hdi_97%</th>\n",
       "      <th>mcse_mean</th>\n",
       "      <th>mcse_sd</th>\n",
       "      <th>ess_bulk</th>\n",
       "      <th>ess_tail</th>\n",
       "      <th>r_hat</th>\n",
       "    </tr>\n",
       "  </thead>\n",
       "  <tbody>\n",
       "    <tr>\n",
       "      <th>effect_size</th>\n",
       "      <td>2.035</td>\n",
       "      <td>0.707</td>\n",
       "      <td>0.651</td>\n",
       "      <td>3.321</td>\n",
       "      <td>0.007</td>\n",
       "      <td>0.005</td>\n",
       "      <td>9795.0</td>\n",
       "      <td>5950.0</td>\n",
       "      <td>1.0</td>\n",
       "    </tr>\n",
       "    <tr>\n",
       "      <th>prevalence</th>\n",
       "      <td>0.610</td>\n",
       "      <td>0.212</td>\n",
       "      <td>0.224</td>\n",
       "      <td>0.972</td>\n",
       "      <td>0.002</td>\n",
       "      <td>0.001</td>\n",
       "      <td>10243.0</td>\n",
       "      <td>9644.0</td>\n",
       "      <td>1.0</td>\n",
       "    </tr>\n",
       "  </tbody>\n",
       "</table>\n",
       "</div>"
      ],
      "text/plain": [
       "              mean     sd  hdi_3%  hdi_97%  mcse_mean  mcse_sd  ess_bulk  \\\n",
       "effect_size  2.035  0.707   0.651    3.321      0.007    0.005    9795.0   \n",
       "prevalence   0.610  0.212   0.224    0.972      0.002    0.001   10243.0   \n",
       "\n",
       "             ess_tail  r_hat  \n",
       "effect_size    5950.0    1.0  \n",
       "prevalence     9644.0    1.0  "
      ]
     },
     "execution_count": 5,
     "metadata": {},
     "output_type": "execute_result"
    }
   ],
   "source": [
    "model.fit()\n",
    "model.summary()"
   ]
  },
  {
   "cell_type": "code",
   "execution_count": 6,
   "id": "51df573e-d0c2-4ada-9ad6-61977c88e348",
   "metadata": {},
   "outputs": [
    {
     "data": {
      "image/png": "[encoded data removed]",
      "text/plain": [
       "<Figure size 640x480 with 1 Axes>"
      ]
     },
     "metadata": {},
     "output_type": "display_data"
    },
    {
     "name": "stdout",
     "output_type": "stream",
     "text": [
      "Posterior predictive power at 0.05, 90% HDI: [0.30735886 0.99998957]\n",
      "Posterior mean: 0.6238466861403433\n"
     ]
    }
   ],
   "source": [
    "pow_df = model.posterior_predictive_power(alpha)\n",
    "plot_power_simulation(pow_df, alpha)\n",
    "hdi = model.posterior_predictive_power_hdi(alpha, hdi_prob)\n",
    "print('Posterior predictive power at %.02f, %d%% HDI:'%(alpha, 100*hdi_prob), hdi)\n",
    "print('Posterior mean:', pow_df.power.mean())"
   ]
  },
  {
   "cell_type": "code",
   "execution_count": 7,
   "id": "1327567d-43a8-47bf-af96-8e92070edfad",
   "metadata": {},
   "outputs": [
    {
     "data": {
      "application/vnd.jupyter.widget-view+json": {
       "model_id": "3baa8c460b694048b911d26cdcd51c05",
       "version_major": 2,
       "version_minor": 0
      },
      "text/plain": [
       "Output()"
      ]
     },
     "metadata": {},
     "output_type": "display_data"
    },
    {
     "data": {
      "text/html": [
       "<pre style=\"white-space:pre;overflow-x:auto;line-height:normal;font-family:Menlo,'DejaVu Sans Mono',consolas,'Courier New',monospace\">\n",
       "</pre>\n"
      ],
      "text/plain": [
       "\n"
      ]
     },
     "metadata": {},
     "output_type": "display_data"
    },
    {
     "data": {
      "text/html": [
       "<pre style=\"white-space:pre;overflow-x:auto;line-height:normal;font-family:Menlo,'DejaVu Sans Mono',consolas,'Courier New',monospace\"></pre>\n"
      ],
      "text/plain": []
     },
     "metadata": {},
     "output_type": "display_data"
    },
    {
     "data": {
      "text/html": [
       "<pre style=\"white-space:pre;overflow-x:auto;line-height:normal;font-family:Menlo,'DejaVu Sans Mono',consolas,'Courier New',monospace\">\n",
       "</pre>\n"
      ],
      "text/plain": [
       "\n"
      ]
     },
     "metadata": {},
     "output_type": "display_data"
    },
    {
     "name": "stdout",
     "output_type": "stream",
     "text": [
      "Posterior maximum prevalence: 0.7100407859788032\n"
     ]
    }
   ],
   "source": [
    "m = model.map\n",
    "print('Posterior maximum prevalence:', m)"
   ]
  },
  {
   "cell_type": "code",
   "execution_count": 8,
   "id": "d3bd47bb-b726-49e4-bdd1-ce7a0ea6c481",
   "metadata": {},
   "outputs": [
    {
     "name": "stderr",
     "output_type": "stream",
     "text": [
      "Auto-assigning NUTS sampler...\n",
      "Initializing NUTS using jitter+adapt_diag...\n",
      "Multiprocess sampling (5 chains in 5 jobs)\n",
      "NUTS: [effect_size]\n"
     ]
    },
    {
     "data": {
      "application/vnd.jupyter.widget-view+json": {
       "model_id": "95222feb920d48f7ba16fae2e864059f",
       "version_major": 2,
       "version_minor": 0
      },
      "text/plain": [
       "Output()"
      ]
     },
     "metadata": {},
     "output_type": "display_data"
    },
    {
     "data": {
      "text/html": [
       "<pre style=\"white-space:pre;overflow-x:auto;line-height:normal;font-family:Menlo,'DejaVu Sans Mono',consolas,'Courier New',monospace\"></pre>\n"
      ],
      "text/plain": []
     },
     "metadata": {},
     "output_type": "display_data"
    },
    {
     "data": {
      "text/html": [
       "<pre style=\"white-space:pre;overflow-x:auto;line-height:normal;font-family:Menlo,'DejaVu Sans Mono',consolas,'Courier New',monospace\">\n",
       "</pre>\n"
      ],
      "text/plain": [
       "\n"
      ]
     },
     "metadata": {},
     "output_type": "display_data"
    },
    {
     "name": "stderr",
     "output_type": "stream",
     "text": [
      "Sampling 5 chains for 1_000 tune and 5_000 draw iterations (5_000 + 25_000 draws total) took 15 seconds.\n"
     ]
    },
    {
     "data": {
      "application/vnd.jupyter.widget-view+json": {
       "model_id": "c9db8fd47239407ebbe9f734054f597f",
       "version_major": 2,
       "version_minor": 0
      },
      "text/plain": [
       "Output()"
      ]
     },
     "metadata": {},
     "output_type": "display_data"
    },
    {
     "data": {
      "text/html": [
       "<pre style=\"white-space:pre;overflow-x:auto;line-height:normal;font-family:Menlo,'DejaVu Sans Mono',consolas,'Courier New',monospace\"></pre>\n"
      ],
      "text/plain": []
     },
     "metadata": {},
     "output_type": "display_data"
    },
    {
     "data": {
      "text/html": [
       "<pre style=\"white-space:pre;overflow-x:auto;line-height:normal;font-family:Menlo,'DejaVu Sans Mono',consolas,'Courier New',monospace\">\n",
       "</pre>\n"
      ],
      "text/plain": [
       "\n"
      ]
     },
     "metadata": {},
     "output_type": "display_data"
    },
    {
     "data": {
      "text/html": [
       "<div>\n",
       "<style scoped>\n",
       "    .dataframe tbody tr th:only-of-type {\n",
       "        vertical-align: middle;\n",
       "    }\n",
       "\n",
       "    .dataframe tbody tr th {\n",
       "        vertical-align: top;\n",
       "    }\n",
       "\n",
       "    .dataframe thead th {\n",
       "        text-align: right;\n",
       "    }\n",
       "</style>\n",
       "<table border=\"1\" class=\"dataframe\">\n",
       "  <thead>\n",
       "    <tr style=\"text-align: right;\">\n",
       "      <th></th>\n",
       "      <th>rank</th>\n",
       "      <th>elpd_loo</th>\n",
       "      <th>p_loo</th>\n",
       "      <th>elpd_diff</th>\n",
       "      <th>weight</th>\n",
       "      <th>se</th>\n",
       "      <th>dse</th>\n",
       "      <th>warning</th>\n",
       "      <th>scale</th>\n",
       "    </tr>\n",
       "  </thead>\n",
       "  <tbody>\n",
       "    <tr>\n",
       "      <th>mixture</th>\n",
       "      <td>0</td>\n",
       "      <td>3.484267</td>\n",
       "      <td>1.694839</td>\n",
       "      <td>0.000000</td>\n",
       "      <td>9.045255e-01</td>\n",
       "      <td>3.167552</td>\n",
       "      <td>0.000000</td>\n",
       "      <td>False</td>\n",
       "      <td>log</td>\n",
       "    </tr>\n",
       "    <tr>\n",
       "      <th>all $H_1$</th>\n",
       "      <td>1</td>\n",
       "      <td>0.944284</td>\n",
       "      <td>3.110241</td>\n",
       "      <td>2.539983</td>\n",
       "      <td>3.488701e-16</td>\n",
       "      <td>4.768885</td>\n",
       "      <td>2.261984</td>\n",
       "      <td>False</td>\n",
       "      <td>log</td>\n",
       "    </tr>\n",
       "    <tr>\n",
       "      <th>all $H_0$</th>\n",
       "      <td>2</td>\n",
       "      <td>0.000000</td>\n",
       "      <td>0.000000</td>\n",
       "      <td>3.484267</td>\n",
       "      <td>9.547448e-02</td>\n",
       "      <td>0.000000</td>\n",
       "      <td>3.167552</td>\n",
       "      <td>False</td>\n",
       "      <td>log</td>\n",
       "    </tr>\n",
       "  </tbody>\n",
       "</table>\n",
       "</div>"
      ],
      "text/plain": [
       "           rank  elpd_loo     p_loo  elpd_diff        weight        se  \\\n",
       "mixture       0  3.484267  1.694839   0.000000  9.045255e-01  3.167552   \n",
       "all $H_1$     1  0.944284  3.110241   2.539983  3.488701e-16  4.768885   \n",
       "all $H_0$     2  0.000000  0.000000   3.484267  9.547448e-02  0.000000   \n",
       "\n",
       "                dse  warning scale  \n",
       "mixture    0.000000    False   log  \n",
       "all $H_1$  2.261984    False   log  \n",
       "all $H_0$  3.167552    False   log  "
      ]
     },
     "execution_count": 8,
     "metadata": {},
     "output_type": "execute_result"
    }
   ],
   "source": [
    "# we can also fit alternative (i.e. H1 or H0 only)\n",
    "# models and apply Bayesian model comparison\n",
    "model.fit_alternative()\n",
    "model.compare()"
   ]
  },
  {
   "cell_type": "markdown",
   "id": "0bc9e883-eb90-4b08-8e24-9e99f638bd70",
   "metadata": {},
   "source": [
    "According the the `arviz` docs, the above weights \"can be loosely interpreted as the probability of each model (among the compared model) given the data.\" But this interpretation may not make sense if you place a high prior probability on one model or another."
   ]
  },
  {
   "cell_type": "code",
   "execution_count": 9,
   "id": "b94e4f8a-4622-4465-a518-18867ab4d9e1",
   "metadata": {},
   "outputs": [
    {
     "data": {
      "image/png": "[encoded data removed]",
      "text/plain": [
       "<Figure size 600x300 with 1 Axes>"
      ]
     },
     "metadata": {},
     "output_type": "display_data"
    }
   ],
   "source": [
    "model.plot_compare()\n",
    "plt.show()"
   ]
  },
  {
   "cell_type": "markdown",
   "id": "4d5a3ba5-3db9-4582-9496-22cd5873e120",
   "metadata": {},
   "source": [
    "### Binomial Outcome Model "
   ]
  },
  {
   "cell_type": "markdown",
   "id": "aee6e133-522c-4c1b-88a3-0e5821c220e3",
   "metadata": {},
   "source": [
    "For comparison, we've implemented the binomial outcome model used by [Ince et al. (2021)](https://doi.org/10.7554/eLife.62461). As can be seen below, its population prevalance estimations can dramatically differ for the exact same data, depending on the arbitrary `alpha` used."
   ]
  },
  {
   "cell_type": "code",
   "execution_count": 10,
   "id": "9e21ca22-c435-41f7-bea0-3f33a53f1cf4",
   "metadata": {},
   "outputs": [
    {
     "name": "stderr",
     "output_type": "stream",
     "text": [
      "Auto-assigning NUTS sampler...\n",
      "Initializing NUTS using jitter+adapt_diag...\n",
      "Multiprocess sampling (5 chains in 5 jobs)\n",
      "NUTS: [prevalence, power]\n"
     ]
    },
    {
     "data": {
      "application/vnd.jupyter.widget-view+json": {
       "model_id": "2f516c482dc348e58134c4c6b90f09bf",
       "version_major": 2,
       "version_minor": 0
      },
      "text/plain": [
       "Output()"
      ]
     },
     "metadata": {},
     "output_type": "display_data"
    },
    {
     "data": {
      "text/html": [
       "<pre style=\"white-space:pre;overflow-x:auto;line-height:normal;font-family:Menlo,'DejaVu Sans Mono',consolas,'Courier New',monospace\"></pre>\n"
      ],
      "text/plain": []
     },
     "metadata": {},
     "output_type": "display_data"
    },
    {
     "data": {
      "text/html": [
       "<pre style=\"white-space:pre;overflow-x:auto;line-height:normal;font-family:Menlo,'DejaVu Sans Mono',consolas,'Courier New',monospace\">\n",
       "</pre>\n"
      ],
      "text/plain": [
       "\n"
      ]
     },
     "metadata": {},
     "output_type": "display_data"
    },
    {
     "name": "stderr",
     "output_type": "stream",
     "text": [
      "Sampling 5 chains for 1_000 tune and 1_000 draw iterations (5_000 + 5_000 draws total) took 6 seconds.\n"
     ]
    },
    {
     "data": {
      "text/html": [
       "<div>\n",
       "<style scoped>\n",
       "    .dataframe tbody tr th:only-of-type {\n",
       "        vertical-align: middle;\n",
       "    }\n",
       "\n",
       "    .dataframe tbody tr th {\n",
       "        vertical-align: top;\n",
       "    }\n",
       "\n",
       "    .dataframe thead th {\n",
       "        text-align: right;\n",
       "    }\n",
       "</style>\n",
       "<table border=\"1\" class=\"dataframe\">\n",
       "  <thead>\n",
       "    <tr style=\"text-align: right;\">\n",
       "      <th></th>\n",
       "      <th>mean</th>\n",
       "      <th>sd</th>\n",
       "      <th>hdi_3%</th>\n",
       "      <th>hdi_97%</th>\n",
       "      <th>mcse_mean</th>\n",
       "      <th>mcse_sd</th>\n",
       "      <th>ess_bulk</th>\n",
       "      <th>ess_tail</th>\n",
       "      <th>r_hat</th>\n",
       "    </tr>\n",
       "  </thead>\n",
       "  <tbody>\n",
       "    <tr>\n",
       "      <th>power</th>\n",
       "      <td>0.731</td>\n",
       "      <td>0.187</td>\n",
       "      <td>0.397</td>\n",
       "      <td>0.999</td>\n",
       "      <td>0.003</td>\n",
       "      <td>0.002</td>\n",
       "      <td>3561.0</td>\n",
       "      <td>2367.0</td>\n",
       "      <td>1.0</td>\n",
       "    </tr>\n",
       "    <tr>\n",
       "      <th>prevalence</th>\n",
       "      <td>0.721</td>\n",
       "      <td>0.194</td>\n",
       "      <td>0.382</td>\n",
       "      <td>1.000</td>\n",
       "      <td>0.003</td>\n",
       "      <td>0.002</td>\n",
       "      <td>3417.0</td>\n",
       "      <td>2202.0</td>\n",
       "      <td>1.0</td>\n",
       "    </tr>\n",
       "  </tbody>\n",
       "</table>\n",
       "</div>"
      ],
      "text/plain": [
       "             mean     sd  hdi_3%  hdi_97%  mcse_mean  mcse_sd  ess_bulk  \\\n",
       "power       0.731  0.187   0.397    0.999      0.003    0.002    3561.0   \n",
       "prevalence  0.721  0.194   0.382    1.000      0.003    0.002    3417.0   \n",
       "\n",
       "            ess_tail  r_hat  \n",
       "power         2367.0    1.0  \n",
       "prevalence    2202.0    1.0  "
      ]
     },
     "execution_count": 10,
     "metadata": {},
     "output_type": "execute_result"
    }
   ],
   "source": [
    "from p2prev._benchmarking import BinomialOutcomesModel\n",
    "k = (pvals <= alpha).sum()\n",
    "n = len(pvals)\n",
    "model = BinomialOutcomesModel(k, n, alpha)\n",
    "model.fit()\n",
    "model.summary()"
   ]
  },
  {
   "cell_type": "code",
   "execution_count": 11,
   "id": "42b34e57-5a13-4bdf-ada9-aa49203ef279",
   "metadata": {},
   "outputs": [
    {
     "data": {
      "application/vnd.jupyter.widget-view+json": {
       "model_id": "df7170edc92a4ec0804197d4331c25bd",
       "version_major": 2,
       "version_minor": 0
      },
      "text/plain": [
       "Output()"
      ]
     },
     "metadata": {},
     "output_type": "display_data"
    },
    {
     "data": {
      "text/html": [
       "<pre style=\"white-space:pre;overflow-x:auto;line-height:normal;font-family:Menlo,'DejaVu Sans Mono',consolas,'Courier New',monospace\">\n",
       "</pre>\n"
      ],
      "text/plain": [
       "\n"
      ]
     },
     "metadata": {},
     "output_type": "display_data"
    },
    {
     "data": {
      "text/html": [
       "<pre style=\"white-space:pre;overflow-x:auto;line-height:normal;font-family:Menlo,'DejaVu Sans Mono',consolas,'Courier New',monospace\"></pre>\n"
      ],
      "text/plain": []
     },
     "metadata": {},
     "output_type": "display_data"
    },
    {
     "data": {
      "text/html": [
       "<pre style=\"white-space:pre;overflow-x:auto;line-height:normal;font-family:Menlo,'DejaVu Sans Mono',consolas,'Courier New',monospace\">\n",
       "</pre>\n"
      ],
      "text/plain": [
       "\n"
      ]
     },
     "metadata": {},
     "output_type": "display_data"
    },
    {
     "name": "stdout",
     "output_type": "stream",
     "text": [
      "Posterior maximum: 0.8624446839260521\n"
     ]
    }
   ],
   "source": [
    "m = model.map\n",
    "print('Posterior maximum:', m)"
   ]
  },
  {
   "cell_type": "code",
   "execution_count": 12,
   "id": "774f9b66-64f1-4565-ae92-a079e426a4d5",
   "metadata": {},
   "outputs": [
    {
     "name": "stderr",
     "output_type": "stream",
     "text": [
      "Auto-assigning NUTS sampler...\n",
      "Initializing NUTS using jitter+adapt_diag...\n",
      "Multiprocess sampling (5 chains in 5 jobs)\n",
      "NUTS: [prevalence, power]\n"
     ]
    },
    {
     "data": {
      "application/vnd.jupyter.widget-view+json": {
       "model_id": "6c10c6e3a90041cd8baf1df0f6c97aff",
       "version_major": 2,
       "version_minor": 0
      },
      "text/plain": [
       "Output()"
      ]
     },
     "metadata": {},
     "output_type": "display_data"
    },
    {
     "data": {
      "text/html": [
       "<pre style=\"white-space:pre;overflow-x:auto;line-height:normal;font-family:Menlo,'DejaVu Sans Mono',consolas,'Courier New',monospace\"></pre>\n"
      ],
      "text/plain": []
     },
     "metadata": {},
     "output_type": "display_data"
    },
    {
     "data": {
      "text/html": [
       "<pre style=\"white-space:pre;overflow-x:auto;line-height:normal;font-family:Menlo,'DejaVu Sans Mono',consolas,'Courier New',monospace\">\n",
       "</pre>\n"
      ],
      "text/plain": [
       "\n"
      ]
     },
     "metadata": {},
     "output_type": "display_data"
    },
    {
     "name": "stderr",
     "output_type": "stream",
     "text": [
      "Sampling 5 chains for 1_000 tune and 1_000 draw iterations (5_000 + 5_000 draws total) took 6 seconds.\n"
     ]
    },
    {
     "data": {
      "text/html": [
       "<div>\n",
       "<style scoped>\n",
       "    .dataframe tbody tr th:only-of-type {\n",
       "        vertical-align: middle;\n",
       "    }\n",
       "\n",
       "    .dataframe tbody tr th {\n",
       "        vertical-align: top;\n",
       "    }\n",
       "\n",
       "    .dataframe thead th {\n",
       "        text-align: right;\n",
       "    }\n",
       "</style>\n",
       "<table border=\"1\" class=\"dataframe\">\n",
       "  <thead>\n",
       "    <tr style=\"text-align: right;\">\n",
       "      <th></th>\n",
       "      <th>mean</th>\n",
       "      <th>sd</th>\n",
       "      <th>hdi_3%</th>\n",
       "      <th>hdi_97%</th>\n",
       "      <th>mcse_mean</th>\n",
       "      <th>mcse_sd</th>\n",
       "      <th>ess_bulk</th>\n",
       "      <th>ess_tail</th>\n",
       "      <th>r_hat</th>\n",
       "    </tr>\n",
       "  </thead>\n",
       "  <tbody>\n",
       "    <tr>\n",
       "      <th>power</th>\n",
       "      <td>0.516</td>\n",
       "      <td>0.257</td>\n",
       "      <td>0.126</td>\n",
       "      <td>0.997</td>\n",
       "      <td>0.005</td>\n",
       "      <td>0.004</td>\n",
       "      <td>2773.0</td>\n",
       "      <td>2238.0</td>\n",
       "      <td>1.0</td>\n",
       "    </tr>\n",
       "    <tr>\n",
       "      <th>prevalence</th>\n",
       "      <td>0.504</td>\n",
       "      <td>0.253</td>\n",
       "      <td>0.114</td>\n",
       "      <td>0.993</td>\n",
       "      <td>0.005</td>\n",
       "      <td>0.004</td>\n",
       "      <td>2548.0</td>\n",
       "      <td>2070.0</td>\n",
       "      <td>1.0</td>\n",
       "    </tr>\n",
       "  </tbody>\n",
       "</table>\n",
       "</div>"
      ],
      "text/plain": [
       "             mean     sd  hdi_3%  hdi_97%  mcse_mean  mcse_sd  ess_bulk  \\\n",
       "power       0.516  0.257   0.126    0.997      0.005    0.004    2773.0   \n",
       "prevalence  0.504  0.253   0.114    0.993      0.005    0.004    2548.0   \n",
       "\n",
       "            ess_tail  r_hat  \n",
       "power         2238.0    1.0  \n",
       "prevalence    2070.0    1.0  "
      ]
     },
     "execution_count": 12,
     "metadata": {},
     "output_type": "execute_result"
    }
   ],
   "source": [
    "lower_alpha = .01\n",
    "new_k = (pvals <= lower_alpha).sum()\n",
    "model = BinomialOutcomesModel(new_k, n, lower_alpha)\n",
    "model.fit()\n",
    "model.summary()"
   ]
  },
  {
   "cell_type": "code",
   "execution_count": 13,
   "id": "6dbe9428-a1f8-414e-8f2a-e476f8f924fb",
   "metadata": {},
   "outputs": [
    {
     "data": {
      "application/vnd.jupyter.widget-view+json": {
       "model_id": "8ee74a27fd8748f0b36ca738a3238ef5",
       "version_major": 2,
       "version_minor": 0
      },
      "text/plain": [
       "Output()"
      ]
     },
     "metadata": {},
     "output_type": "display_data"
    },
    {
     "data": {
      "text/html": [
       "<pre style=\"white-space:pre;overflow-x:auto;line-height:normal;font-family:Menlo,'DejaVu Sans Mono',consolas,'Courier New',monospace\">\n",
       "</pre>\n"
      ],
      "text/plain": [
       "\n"
      ]
     },
     "metadata": {},
     "output_type": "display_data"
    },
    {
     "data": {
      "text/html": [
       "<pre style=\"white-space:pre;overflow-x:auto;line-height:normal;font-family:Menlo,'DejaVu Sans Mono',consolas,'Courier New',monospace\"></pre>\n"
      ],
      "text/plain": []
     },
     "metadata": {},
     "output_type": "display_data"
    },
    {
     "data": {
      "text/html": [
       "<pre style=\"white-space:pre;overflow-x:auto;line-height:normal;font-family:Menlo,'DejaVu Sans Mono',consolas,'Courier New',monospace\">\n",
       "</pre>\n"
      ],
      "text/plain": [
       "\n"
      ]
     },
     "metadata": {},
     "output_type": "display_data"
    },
    {
     "name": "stdout",
     "output_type": "stream",
     "text": [
      "Posterior maximum: 0.49497559499589433\n"
     ]
    }
   ],
   "source": [
    "m = model.map\n",
    "print('Posterior maximum:', m)"
   ]
  },
  {
   "cell_type": "code",
   "execution_count": 14,
   "id": "c73c91d8-4961-43de-8966-3a616aa16664",
   "metadata": {},
   "outputs": [
    {
     "data": {
      "image/png": "[encoded data removed]",
      "text/plain": [
       "<Figure size 640x480 with 1 Axes>"
      ]
     },
     "metadata": {},
     "output_type": "display_data"
    }
   ],
   "source": [
    "df = pd.DataFrame(dict(\n",
    "    power = model.power,\n",
    "    prevalence = model.prevalence\n",
    "))\n",
    "plot_power_simulation(df, lower_alpha)"
   ]
  },
  {
   "cell_type": "markdown",
   "id": "b9c3d50a-2b82-4d0a-b332-5ae80edc4ba3",
   "metadata": {},
   "source": [
    "The reason for this dependence, as shown above, is the large inverse correlation between power and prevalence in the posterior. The binomial model can't differentiate between higher-power/lower-prevalence and lower-power/higher-prevalence. "
   ]
  },
  {
   "cell_type": "code",
   "execution_count": null,
   "id": "0b3cdfb0-64d7-4ecd-9d03-23b2815e4018",
   "metadata": {},
   "outputs": [],
   "source": []
  }
 ],
 "metadata": {
  "kernelspec": {
   "display_name": "Python 3 (ipykernel)",
   "language": "python",
   "name": "python3"
  },
  "language_info": {
   "codemirror_mode": {
    "name": "ipython",
    "version": 3
   },
   "file_extension": ".py",
   "mimetype": "text/x-python",
   "name": "python",
   "nbconvert_exporter": "python",
   "pygments_lexer": "ipython3",
   "version": "3.12.2"
  }
 },
 "nbformat": 4,
 "nbformat_minor": 5
}
