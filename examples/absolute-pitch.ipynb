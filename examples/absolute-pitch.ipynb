{
 "cells": [
  {
   "cell_type": "markdown",
   "id": "8e8effc4-c6cf-42de-b7b5-0cf638e807cd",
   "metadata": {},
   "source": [
    "## Between-group differences in effect prevalence versus in effect size"
   ]
  },
  {
   "cell_type": "code",
   "execution_count": 1,
   "id": "a84fa1ae-c5b7-4e4d-abd5-ee9cd5648fa0",
   "metadata": {},
   "outputs": [],
   "source": [
    "# if running from 'examples' directory of p2prev repo, \n",
    "# we need to add parent directory to module search path\n",
    "# so that p2prev module can be imported\n",
    "# (not necessary if you've pip installed p2prev module)\n",
    "import sys\n",
    "import os\n",
    "cwd = os.getcwd()\n",
    "pardir = os.path.abspath(os.path.join(cwd, os.pardir))\n",
    "sys.path.append(pardir)\n",
    "\n",
    "# if you have p2prev installed, you can start with the next chunk:"
   ]
  },
  {
   "cell_type": "code",
   "execution_count": 2,
   "id": "80a957b0-cd67-47fe-a6e1-d435a891065a",
   "metadata": {},
   "outputs": [],
   "source": [
    "import numpy as np\n",
    "import pandas as pd\n",
    "from scipy.stats import binomtest\n",
    "from matplotlib import pyplot as plt\n",
    "import arviz as az\n",
    "import os\n",
    "\n",
    "from p2prev import PCurveMixture\n",
    "\n",
    "np.random.seed(0)"
   ]
  },
  {
   "cell_type": "markdown",
   "id": "cb16252d-8051-4340-a3a1-89ecdada56ce",
   "metadata": {},
   "source": [
    "We'll load the pitch-labelling accuracies from [Van Hedger et al.'s (2020)](https://doi.org/10.1371/journal.pone.0244308) study on the population distribution of pitch-labelling ability. Those who perform highest on this measure are said the have \"absolute pitch\" (AP) or often \"perfect pitch\", which is considered a rare perceptual skill. Most people, for instance, can recognize and name colors on sight, but very few people can reliably recognize/name a musical note without comparing it to a reference note, even among skilled musicians -- whereas relative pitch memory (i.e. remembering the relationship between notes) is more common.\n",
    "\n",
    "Van Hedger et al. (2020) put up an online test where people could find out whether they have absolute pitch. The test ended up getting featured in a [Wall Street Journal article](https://www.wsj.com/articles/can-perfect-pitch-be-learned-1497178800?reflink=desktopwebshare_permalink), and so it ended up attracting a substanial number of participants (who presumably self-selected for believing they have some non-chance ability to name muscial notes).\n",
    "\n",
    "The historicallly prevailing theoretic asusmption in the field is that AP is a dichotomous trait -- you either have it and perform near perfectly on pitch labelling tasks, or you don't have the trait at all. However, Van Hedger et al. (2020) used mixture modelling to argue that (1) the population distribution among this self-selected group consisted of an at-chance group and and above-chance group of participants, and (2) the mean of the above-chance group was less than perfect performance. In other words, those possessing \"perfect pitch\" are just the upper tail of a subset of the population has above-chance, but not necessarily perfect, absolute pitch memory. This population distribution, they say, is more indicative of a perceptual skill with grated levels of performance, rather than a dichotomous trait. \n",
    "\n",
    "Here, we'll extend their analysis. First, we'll replicate the characterization of the population distribution as a mixture of at- and above-chance participants using a $p$-curve mixture model. Then, we'll assess whether the higher rates of _observed_ AP ability in tonal language speakers, commonly described as a population prevalence difference in the liaterature (i.e. tonal language speakers are more likely to show the dichotomous trait), is better accounted for by an actual prevalence difference or a difference in within-subject effect size (and thus, detectability)."
   ]
  },
  {
   "cell_type": "code",
   "execution_count": 3,
   "id": "39a3091a-3278-4c47-a913-34c77b0e4aa2",
   "metadata": {},
   "outputs": [
    {
     "data": {
      "text/html": [
       "<div>\n",
       "<style scoped>\n",
       "    .dataframe tbody tr th:only-of-type {\n",
       "        vertical-align: middle;\n",
       "    }\n",
       "\n",
       "    .dataframe tbody tr th {\n",
       "        vertical-align: top;\n",
       "    }\n",
       "\n",
       "    .dataframe thead th {\n",
       "        text-align: right;\n",
       "    }\n",
       "</style>\n",
       "<table border=\"1\" class=\"dataframe\">\n",
       "  <thead>\n",
       "    <tr style=\"text-align: right;\">\n",
       "      <th></th>\n",
       "      <th>ACC</th>\n",
       "      <th>Tonal</th>\n",
       "    </tr>\n",
       "  </thead>\n",
       "  <tbody>\n",
       "    <tr>\n",
       "      <th>0</th>\n",
       "      <td>0.833333</td>\n",
       "      <td>0</td>\n",
       "    </tr>\n",
       "    <tr>\n",
       "      <th>1</th>\n",
       "      <td>0.104167</td>\n",
       "      <td>0</td>\n",
       "    </tr>\n",
       "    <tr>\n",
       "      <th>2</th>\n",
       "      <td>0.937500</td>\n",
       "      <td>1</td>\n",
       "    </tr>\n",
       "    <tr>\n",
       "      <th>3</th>\n",
       "      <td>0.083333</td>\n",
       "      <td>0</td>\n",
       "    </tr>\n",
       "    <tr>\n",
       "      <th>4</th>\n",
       "      <td>0.187500</td>\n",
       "      <td>1</td>\n",
       "    </tr>\n",
       "  </tbody>\n",
       "</table>\n",
       "</div>"
      ],
      "text/plain": [
       "        ACC  Tonal\n",
       "0  0.833333      0\n",
       "1  0.104167      0\n",
       "2  0.937500      1\n",
       "3  0.083333      0\n",
       "4  0.187500      1"
      ]
     },
     "execution_count": 3,
     "metadata": {},
     "output_type": "execute_result"
    }
   ],
   "source": [
    "# this CSV can be obtained from https://osf.io/v46aj (DOI 10.17605/OSF.IO/V46AJ)\n",
    "csv_fpath = os.path.join('resources', 'apsummarydata.csv')\n",
    "df = pd.read_csv(csv_fpath)\n",
    "df[['ACC', 'Tonal']].head()"
   ]
  },
  {
   "cell_type": "code",
   "execution_count": 4,
   "id": "7ab1b651-debf-41ef-96ae-20d93bc4012f",
   "metadata": {},
   "outputs": [],
   "source": [
    "# convert accuracies to number correct \n",
    "n_trials = 48 # see Methods in Van Hedger et al. (2020) \n",
    "chance = 4 / 48 # probability of correct if guessing\n",
    "accuracy = df.ACC.to_numpy()\n",
    "ks = np.round(accuracy * n_trials).astype(int)\n",
    "# and compute within-subject p-values using the binomial test\n",
    "pvals = [binomtest(k, n_trials, chance, alternative = 'greater').pvalue for k in ks]\n",
    "pvals = np.array(pvals)\n",
    "pvals[pvals == 1] = 1 - 1e-6 # for numerics, since P[p-value = 1] = 0 for most tests"
   ]
  },
  {
   "cell_type": "code",
   "execution_count": 5,
   "id": "fb187476-8bd2-4544-98a4-d11949077db1",
   "metadata": {},
   "outputs": [
    {
     "name": "stderr",
     "output_type": "stream",
     "text": [
      "Auto-assigning NUTS sampler...\n",
      "Initializing NUTS using jitter+adapt_diag...\n",
      "Multiprocess sampling (5 chains in 5 jobs)\n",
      "NUTS: [effect_size, prevalence]\n"
     ]
    },
    {
     "data": {
      "text/html": [
       "\n",
       "<style>\n",
       "    /* Turns off some styling */\n",
       "    progress {\n",
       "        /* gets rid of default border in Firefox and Opera. */\n",
       "        border: none;\n",
       "        /* Needs to be in here for Safari polyfill so background images work as expected. */\n",
       "        background-size: auto;\n",
       "    }\n",
       "    progress:not([value]), progress:not([value])::-webkit-progress-bar {\n",
       "        background: repeating-linear-gradient(45deg, #7e7e7e, #7e7e7e 10px, #5c5c5c 10px, #5c5c5c 20px);\n",
       "    }\n",
       "    .progress-bar-interrupted, .progress-bar-interrupted::-webkit-progress-bar {\n",
       "        background: #F44336;\n",
       "    }\n",
       "</style>\n"
      ],
      "text/plain": [
       "<IPython.core.display.HTML object>"
      ]
     },
     "metadata": {},
     "output_type": "display_data"
    },
    {
     "data": {
      "text/html": [
       "\n",
       "    <div>\n",
       "      <progress value='10000' class='' max='10000' style='width:300px; height:20px; vertical-align: middle;'></progress>\n",
       "      100.00% [10000/10000 00:06&lt;00:00 Sampling 5 chains, 0 divergences]\n",
       "    </div>\n",
       "    "
      ],
      "text/plain": [
       "<IPython.core.display.HTML object>"
      ]
     },
     "metadata": {},
     "output_type": "display_data"
    },
    {
     "name": "stderr",
     "output_type": "stream",
     "text": [
      "Sampling 5 chains for 1_000 tune and 1_000 draw iterations (5_000 + 5_000 draws total) took 30 seconds.\n"
     ]
    },
    {
     "data": {
      "text/html": [
       "<div>\n",
       "<style scoped>\n",
       "    .dataframe tbody tr th:only-of-type {\n",
       "        vertical-align: middle;\n",
       "    }\n",
       "\n",
       "    .dataframe tbody tr th {\n",
       "        vertical-align: top;\n",
       "    }\n",
       "\n",
       "    .dataframe thead th {\n",
       "        text-align: right;\n",
       "    }\n",
       "</style>\n",
       "<table border=\"1\" class=\"dataframe\">\n",
       "  <thead>\n",
       "    <tr style=\"text-align: right;\">\n",
       "      <th></th>\n",
       "      <th>mean</th>\n",
       "      <th>sd</th>\n",
       "      <th>hdi_3%</th>\n",
       "      <th>hdi_97%</th>\n",
       "      <th>mcse_mean</th>\n",
       "      <th>mcse_sd</th>\n",
       "      <th>ess_bulk</th>\n",
       "      <th>ess_tail</th>\n",
       "      <th>r_hat</th>\n",
       "    </tr>\n",
       "  </thead>\n",
       "  <tbody>\n",
       "    <tr>\n",
       "      <th>effect_size</th>\n",
       "      <td>11.573</td>\n",
       "      <td>0.127</td>\n",
       "      <td>11.341</td>\n",
       "      <td>11.821</td>\n",
       "      <td>0.002</td>\n",
       "      <td>0.001</td>\n",
       "      <td>5183.0</td>\n",
       "      <td>3590.0</td>\n",
       "      <td>1.0</td>\n",
       "    </tr>\n",
       "    <tr>\n",
       "      <th>prevalence</th>\n",
       "      <td>0.533</td>\n",
       "      <td>0.040</td>\n",
       "      <td>0.458</td>\n",
       "      <td>0.607</td>\n",
       "      <td>0.001</td>\n",
       "      <td>0.000</td>\n",
       "      <td>5157.0</td>\n",
       "      <td>3641.0</td>\n",
       "      <td>1.0</td>\n",
       "    </tr>\n",
       "  </tbody>\n",
       "</table>\n",
       "</div>"
      ],
      "text/plain": [
       "               mean     sd  hdi_3%  hdi_97%  mcse_mean  mcse_sd  ess_bulk  \\\n",
       "effect_size  11.573  0.127  11.341   11.821      0.002    0.001    5183.0   \n",
       "prevalence    0.533  0.040   0.458    0.607      0.001    0.000    5157.0   \n",
       "\n",
       "             ess_tail  r_hat  \n",
       "effect_size    3590.0    1.0  \n",
       "prevalence     3641.0    1.0  "
      ]
     },
     "execution_count": 5,
     "metadata": {},
     "output_type": "execute_result"
    }
   ],
   "source": [
    "# fit model on full sample to estimate prevalence of above-chance \n",
    "# pitch-labelling accuracy (H1) in the sampled population\n",
    "model = PCurveMixture(pvals)\n",
    "model.fit()\n",
    "model.summary()"
   ]
  },
  {
   "cell_type": "markdown",
   "id": "583f9131-515b-4bef-a5d3-ab4610eb86d8",
   "metadata": {},
   "source": [
    "We estimate a prevalence between 45% and 60% in the sampled population. But keep in mind: the sampled population isn't \"the\" population, it's a population that's already self-selected for high pitch-labelling ability.\n",
    "\n",
    "A useful feature of $p$-curve mixtures is that they can be applied to any data for which you can compute a within-subject $p$-value, but the tradeoff is that the \"effect size\" in the results above is abstract, rather than in the original units of the data. This means that the effect size \"estimate\" we see above is only interpretable on a relative scale, such as between two groups where all subjects were subjected to the same within-subject test. We will do such a between-group comparison later in this tutorial. \n",
    "\n",
    "> **Note:** If you want to put the effect size estimate on a more interpretable scale, you can convert the within-subject effect size estimate to within-subject power at some significance level $\\alpha$ of your choice, as in the `prevalence-estimation.ipynb` tutorial notebook."
   ]
  },
  {
   "cell_type": "code",
   "execution_count": 6,
   "id": "d447e911-4b18-499e-8c6a-25d0c7a2d774",
   "metadata": {},
   "outputs": [
    {
     "name": "stderr",
     "output_type": "stream",
     "text": [
      "Auto-assigning NUTS sampler...\n",
      "Initializing NUTS using jitter+adapt_diag...\n",
      "Multiprocess sampling (5 chains in 5 jobs)\n",
      "NUTS: [effect_size]\n"
     ]
    },
    {
     "data": {
      "text/html": [
       "\n",
       "<style>\n",
       "    /* Turns off some styling */\n",
       "    progress {\n",
       "        /* gets rid of default border in Firefox and Opera. */\n",
       "        border: none;\n",
       "        /* Needs to be in here for Safari polyfill so background images work as expected. */\n",
       "        background-size: auto;\n",
       "    }\n",
       "    progress:not([value]), progress:not([value])::-webkit-progress-bar {\n",
       "        background: repeating-linear-gradient(45deg, #7e7e7e, #7e7e7e 10px, #5c5c5c 10px, #5c5c5c 20px);\n",
       "    }\n",
       "    .progress-bar-interrupted, .progress-bar-interrupted::-webkit-progress-bar {\n",
       "        background: #F44336;\n",
       "    }\n",
       "</style>\n"
      ],
      "text/plain": [
       "<IPython.core.display.HTML object>"
      ]
     },
     "metadata": {},
     "output_type": "display_data"
    },
    {
     "data": {
      "text/html": [
       "\n",
       "    <div>\n",
       "      <progress value='10000' class='' max='10000' style='width:300px; height:20px; vertical-align: middle;'></progress>\n",
       "      100.00% [10000/10000 00:01&lt;00:00 Sampling 5 chains, 0 divergences]\n",
       "    </div>\n",
       "    "
      ],
      "text/plain": [
       "<IPython.core.display.HTML object>"
      ]
     },
     "metadata": {},
     "output_type": "display_data"
    },
    {
     "name": "stderr",
     "output_type": "stream",
     "text": [
      "Sampling 5 chains for 1_000 tune and 1_000 draw iterations (5_000 + 5_000 draws total) took 15 seconds.\n"
     ]
    },
    {
     "data": {
      "text/html": [
       "<div>\n",
       "<style scoped>\n",
       "    .dataframe tbody tr th:only-of-type {\n",
       "        vertical-align: middle;\n",
       "    }\n",
       "\n",
       "    .dataframe tbody tr th {\n",
       "        vertical-align: top;\n",
       "    }\n",
       "\n",
       "    .dataframe thead th {\n",
       "        text-align: right;\n",
       "    }\n",
       "</style>\n",
       "<table border=\"1\" class=\"dataframe\">\n",
       "  <thead>\n",
       "    <tr style=\"text-align: right;\">\n",
       "      <th></th>\n",
       "      <th>rank</th>\n",
       "      <th>elpd_loo</th>\n",
       "      <th>p_loo</th>\n",
       "      <th>elpd_diff</th>\n",
       "      <th>weight</th>\n",
       "      <th>se</th>\n",
       "      <th>dse</th>\n",
       "      <th>warning</th>\n",
       "      <th>scale</th>\n",
       "    </tr>\n",
       "  </thead>\n",
       "  <tbody>\n",
       "    <tr>\n",
       "      <th>mixture</th>\n",
       "      <td>0</td>\n",
       "      <td>5328.117782</td>\n",
       "      <td>11.769203</td>\n",
       "      <td>0.000000</td>\n",
       "      <td>0.772750</td>\n",
       "      <td>512.331640</td>\n",
       "      <td>0.000000</td>\n",
       "      <td>False</td>\n",
       "      <td>log</td>\n",
       "    </tr>\n",
       "    <tr>\n",
       "      <th>all $H_1$</th>\n",
       "      <td>1</td>\n",
       "      <td>2998.040580</td>\n",
       "      <td>38.108437</td>\n",
       "      <td>2330.077202</td>\n",
       "      <td>0.165393</td>\n",
       "      <td>481.998423</td>\n",
       "      <td>181.911924</td>\n",
       "      <td>False</td>\n",
       "      <td>log</td>\n",
       "    </tr>\n",
       "    <tr>\n",
       "      <th>all $H_0$</th>\n",
       "      <td>2</td>\n",
       "      <td>0.000000</td>\n",
       "      <td>0.000000</td>\n",
       "      <td>5328.117782</td>\n",
       "      <td>0.061857</td>\n",
       "      <td>0.000000</td>\n",
       "      <td>512.331640</td>\n",
       "      <td>False</td>\n",
       "      <td>log</td>\n",
       "    </tr>\n",
       "  </tbody>\n",
       "</table>\n",
       "</div>"
      ],
      "text/plain": [
       "           rank     elpd_loo      p_loo    elpd_diff    weight          se  \\\n",
       "mixture       0  5328.117782  11.769203     0.000000  0.772750  512.331640   \n",
       "all $H_1$     1  2998.040580  38.108437  2330.077202  0.165393  481.998423   \n",
       "all $H_0$     2     0.000000   0.000000  5328.117782  0.061857    0.000000   \n",
       "\n",
       "                  dse  warning scale  \n",
       "mixture      0.000000    False   log  \n",
       "all $H_1$  181.911924    False   log  \n",
       "all $H_0$  512.331640    False   log  "
      ]
     },
     "execution_count": 6,
     "metadata": {},
     "output_type": "execute_result"
    }
   ],
   "source": [
    "# we can also fit alternative (i.e. H1 only or H0 only) \n",
    "# models and apply Bayesian model comparison to see \n",
    "# which our data are most consistent with\n",
    "model.fit_alternative()\n",
    "model.compare()"
   ]
  },
  {
   "cell_type": "code",
   "execution_count": 7,
   "id": "d5dfba83-4de7-4102-87fe-bc0b35fb4c15",
   "metadata": {},
   "outputs": [
    {
     "data": {
      "image/png": "[encoded data removed]",
      "text/plain": [
       "<Figure size 600x300 with 1 Axes>"
      ]
     },
     "metadata": {},
     "output_type": "display_data"
    }
   ],
   "source": [
    "model.plot_compare()\n",
    "plt.show()"
   ]
  },
  {
   "cell_type": "markdown",
   "id": "495f7264-deac-4ea9-b0d3-89135911ad25",
   "metadata": {},
   "source": [
    "As shown above, evidence for a mixture of above-chance and at-chance performers is very strong. This is consistent with both the \"perfect pitch\" view where AP is a dichotomous trait and the grated skill view, since both would posit that a large group of subjects should be at-chance. Where these views differ is how the above-chance folks are distributed -- are all above-chance performers at the same, near perfect level of performance, or is there measingful variation in performance within this group?\n",
    "\n",
    "Our next analysis will get at that question. It is a common finding in the literature that speakers of tonal languages have higher rates of _observed_ AP than those who don't speak a tonal language, but _observed_ AP is normally operationalized as sample accuracy on a pitch-labelling task exceeding some threshold. Another possibility is that the prevalence of AP does not differ in tonal language speakers, but the _within-subject effect size_ (i.e. accuracy given they are above-chance AP performers), which directly determines the probability that their sample accuracy will exceed whatever threshold. In other words, the difference between tonal and non-tonal language speaking groups may be in the _detectability_ of AP, rather than its prevalence -- which is only a possibility if AP is a grated skill, where the within-subject effect size can vary between above-chance subjects. \n",
    "\n",
    "If we assume the effect of group is fixed (and it is normally reasonable to believe that measurements from seperate groups of subjects are independent of one another) then we can simply fit $p$-curve mixture models to each group seperately and compare posterior distributions between models.\n",
    "> **Note:** This independence assumption can be violated, for instance, if you are trying to assess the relative prevalence of two _different_ effects in the _same_ group of subjects (e.g. maybe you've assessed both absolute pitch accuracy and relative pitch accuracy), or if you have tested subjects for the same effect in two experimental conditions (e.g. sine tone stimuli in one condition and piano tones in the other). Then, you have to account for the possibility that a subject expresses one effect is is more or less likely to also express the other. In that case, you shouldn't fit models seperately to each condition as we do below with `p2prev.PCurveMixture` but instead fit a combined model with `p2prev.PCurveWithinGroupDifference`."
   ]
  },
  {
   "cell_type": "code",
   "execution_count": 9,
   "id": "cfe6e16d-da9e-49a8-b870-60374794372e",
   "metadata": {},
   "outputs": [
    {
     "name": "stderr",
     "output_type": "stream",
     "text": [
      "Auto-assigning NUTS sampler...\n",
      "Initializing NUTS using jitter+adapt_diag...\n",
      "Multiprocess sampling (5 chains in 5 jobs)\n",
      "NUTS: [effect_size, prevalence]\n"
     ]
    },
    {
     "data": {
      "text/html": [
       "\n",
       "<style>\n",
       "    /* Turns off some styling */\n",
       "    progress {\n",
       "        /* gets rid of default border in Firefox and Opera. */\n",
       "        border: none;\n",
       "        /* Needs to be in here for Safari polyfill so background images work as expected. */\n",
       "        background-size: auto;\n",
       "    }\n",
       "    progress:not([value]), progress:not([value])::-webkit-progress-bar {\n",
       "        background: repeating-linear-gradient(45deg, #7e7e7e, #7e7e7e 10px, #5c5c5c 10px, #5c5c5c 20px);\n",
       "    }\n",
       "    .progress-bar-interrupted, .progress-bar-interrupted::-webkit-progress-bar {\n",
       "        background: #F44336;\n",
       "    }\n",
       "</style>\n"
      ],
      "text/plain": [
       "<IPython.core.display.HTML object>"
      ]
     },
     "metadata": {},
     "output_type": "display_data"
    },
    {
     "data": {
      "text/html": [
       "\n",
       "    <div>\n",
       "      <progress value='10000' class='' max='10000' style='width:300px; height:20px; vertical-align: middle;'></progress>\n",
       "      100.00% [10000/10000 00:02&lt;00:00 Sampling 5 chains, 0 divergences]\n",
       "    </div>\n",
       "    "
      ],
      "text/plain": [
       "<IPython.core.display.HTML object>"
      ]
     },
     "metadata": {},
     "output_type": "display_data"
    },
    {
     "name": "stderr",
     "output_type": "stream",
     "text": [
      "Sampling 5 chains for 1_000 tune and 1_000 draw iterations (5_000 + 5_000 draws total) took 21 seconds.\n",
      "Auto-assigning NUTS sampler...\n",
      "Initializing NUTS using jitter+adapt_diag...\n",
      "Multiprocess sampling (5 chains in 5 jobs)\n",
      "NUTS: [effect_size, prevalence]\n"
     ]
    },
    {
     "data": {
      "text/html": [
       "\n",
       "<style>\n",
       "    /* Turns off some styling */\n",
       "    progress {\n",
       "        /* gets rid of default border in Firefox and Opera. */\n",
       "        border: none;\n",
       "        /* Needs to be in here for Safari polyfill so background images work as expected. */\n",
       "        background-size: auto;\n",
       "    }\n",
       "    progress:not([value]), progress:not([value])::-webkit-progress-bar {\n",
       "        background: repeating-linear-gradient(45deg, #7e7e7e, #7e7e7e 10px, #5c5c5c 10px, #5c5c5c 20px);\n",
       "    }\n",
       "    .progress-bar-interrupted, .progress-bar-interrupted::-webkit-progress-bar {\n",
       "        background: #F44336;\n",
       "    }\n",
       "</style>\n"
      ],
      "text/plain": [
       "<IPython.core.display.HTML object>"
      ]
     },
     "metadata": {},
     "output_type": "display_data"
    },
    {
     "data": {
      "text/html": [
       "\n",
       "    <div>\n",
       "      <progress value='10000' class='' max='10000' style='width:300px; height:20px; vertical-align: middle;'></progress>\n",
       "      100.00% [10000/10000 00:07&lt;00:00 Sampling 5 chains, 0 divergences]\n",
       "    </div>\n",
       "    "
      ],
      "text/plain": [
       "<IPython.core.display.HTML object>"
      ]
     },
     "metadata": {},
     "output_type": "display_data"
    },
    {
     "name": "stderr",
     "output_type": "stream",
     "text": [
      "Sampling 5 chains for 1_000 tune and 1_000 draw iterations (5_000 + 5_000 draws total) took 21 seconds.\n"
     ]
    },
    {
     "name": "stdout",
     "output_type": "stream",
     "text": [
      "\n",
      "\n",
      "95.0% highest-density intervals (compare to 0.0):\n",
      "\n",
      "HDI for prevalence increase in tonal-speaking population: [-0.01881103  0.35139594]\n",
      "HDI for within-subject effect size increase: [0.18191103 1.21699305] \n",
      "\n"
     ]
    }
   ],
   "source": [
    "# fit models to tonal language speakers and others seperately \n",
    "model_tonal = PCurveMixture(pvals[df.Tonal == 1])\n",
    "model_tonal.fit()\n",
    "model_nontonal = PCurveMixture(pvals[df.Tonal == 0])\n",
    "model_nontonal.fit()\n",
    "\n",
    "# subtract posterior samples to get posterior samples for difference\n",
    "# (this is valid when we assume the effect of group is fixed\n",
    "hdip = 0.95\n",
    "hdi_prev = az.hdi(model_tonal.prevalence - model_nontonal.prevalence, hdi_prob = hdip)\n",
    "hdi_eff = az.hdi(model_tonal.effect_size - model_nontonal.effect_size, hdi_prob = hdip)\n",
    "# and report 95% highest-density intervals (HDIs)\n",
    "print('\\n\\n%.01f%% highest-density intervals (compare to 0.0):\\n'%(100*hdip))\n",
    "print('HDI for prevalence increase in tonal-speaking population:', hdi_prev)\n",
    "print('HDI for within-subject effect size increase:', hdi_eff, '\\n')"
   ]
  },
  {
   "cell_type": "markdown",
   "id": "6cec3a42-bb2c-4f52-b5f9-24feed84dfbe",
   "metadata": {},
   "source": [
    "Here, we see strong evidence that the within-subject effect size (i.e. pitch-labelling accuracy) and thus within-subject power is higher among tonal language speakers, given that they have above-chance AP performance. Conversely, we see relatively weaker (though still not negligible) evidence that the population prevalence is increased in tonal language speakers. This is very different from the common interpretation of tonal language effects on AP in the literature.  \n",
    "\n",
    "This example illustrates that a difference in the rate at which an effect is _detected_ between two groups/conditions does not _automatically_ equate to an actual difference in prevalence. One also has to consider the possibility that the effect is more _detectable_ in one group/condition than in the other (i.e. a difference in within-subject effect size). Methods for estimating population prevalence from within-subject statistics, but [assume fixed within-subject power](https://doi.org/10.7554/eLife.62461), cannot be used to differentiate these possibilities. While ad hoc/custom Bayesian mixture modelling can be used to do so, these models often have to be implemented from scratch, representing a high barrier to entry for most practicing researchers; $p$-curve mixture models are meant to democratize the use of mixture modelling so that they can be used by non-experts."
   ]
  },
  {
   "cell_type": "code",
   "execution_count": null,
   "id": "53f3c57f-3cc2-4ce1-83d4-970b6b507e92",
   "metadata": {},
   "outputs": [],
   "source": []
  }
 ],
 "metadata": {
  "kernelspec": {
   "display_name": "Python 3 (ipykernel)",
   "language": "python",
   "name": "python3"
  },
  "language_info": {
   "codemirror_mode": {
    "name": "ipython",
    "version": 3
   },
   "file_extension": ".py",
   "mimetype": "text/x-python",
   "name": "python",
   "nbconvert_exporter": "python",
   "pygments_lexer": "ipython3",
   "version": "3.11.4"
  }
 },
 "nbformat": 4,
 "nbformat_minor": 5
}
