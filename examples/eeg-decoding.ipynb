{
 "cells": [
  {
   "cell_type": "code",
   "execution_count": 1,
   "id": "a96c2a8b-4113-4b92-8271-df0b7e601475",
   "metadata": {},
   "outputs": [],
   "source": [
    "# if running from 'examples' directory of p2prev repo, \n",
    "# we need to add parent directory to module search path\n",
    "# so that p2prev module can be imported\n",
    "# (not necessary if you've pip installed p2prev module)\n",
    "import sys\n",
    "import os\n",
    "cwd = os.getcwd()\n",
    "pardir = os.path.abspath(os.path.join(cwd, os.pardir))\n",
    "sys.path.append(pardir)"
   ]
  },
  {
   "cell_type": "code",
   "execution_count": 2,
   "id": "28727374-c91c-45c7-b944-39df8ad20012",
   "metadata": {},
   "outputs": [],
   "source": [
    "import pymc as pm\n",
    "import arviz as az\n",
    "import numpy as np\n",
    "from os.path import join\n",
    "from matplotlib import pyplot as plt\n",
    "import matplotlib.gridspec as gridspec\n",
    "import seaborn as sns\n",
    "\n",
    "from p2prev import PCurveWithinGroupDifference"
   ]
  },
  {
   "cell_type": "markdown",
   "id": "eea17321-1e39-4504-be73-adfa5a534887",
   "metadata": {},
   "source": [
    "We'll start by loading some data from [Veillette et al. (2023)](https://doi.org/10.1523/JNEUROSCI.1116-23.2023). In this experimen, electrical muscle stimulation of the forearm was used to move subjects' muscles for them while they tried to complete a reaction time task volitionally. Subjects were asked, after each trial, whether they or the muscle stimulator caused the muscle movement. Stimulation timing was adaptively tuned to the latency threshold at which 50% of movements were perceived as self-caused. \n",
    "\n",
    "The data loaded below contains (1) precomputed _p_-values for the behavioral sensitivity of subjects' agency judgments to variation of the stimulation latency around the threshold estimated by the adaptive procedure and (2) within-subject decoding performances (area under the receiver operator characteristic curve of AUROC) for predicting trial-by-trial agency judgments from EEG, with permutation null distributions. AUROCs are available for many time points surrounding the time of muscle stimulation, so we can estimate prevalence either for the whole trial/epoch or for each time point individually. "
   ]
  },
  {
   "cell_type": "code",
   "execution_count": 3,
   "id": "f3d2179c-95c2-4170-aa9a-0fee8c3b97c2",
   "metadata": {},
   "outputs": [
    {
     "name": "stdout",
     "output_type": "stream",
     "text": [
      "(n_permutations, n_times, n_subjects) = (5001, 36, 23)\n"
     ]
    }
   ],
   "source": [
    "# load data\n",
    "ps_behav = np.load(join('resources', 'eeg', 'pvals_behav.npy'))\n",
    "times = np.load(join('resources', 'eeg', 'timestamps.npy'))\n",
    "H0 = np.load(join('resources', 'eeg', 'H0_auroc.npy'))\n",
    "\n",
    "print('(n_permutations, n_times, n_subjects) = (%d, %d, %d)'%H0.shape)\n",
    "\n",
    "# compute per-subject familywise error rate corrected p-values \n",
    "# using max-stat FWER correction re Nichols & Holmes (2002)\n",
    "# (note: first \"permutation\" in array is observed AUROC)\n",
    "ps_eeg = (H0.max(1)[:, np.newaxis, :] >= H0[0]).mean(0) \n",
    "ps_eeg[ps_eeg == 1] -= 1e-7 # b/c p-values of 1 aren't technically possible\n",
    "# but can occur in a permutation test anyway as a numerical artifact"
   ]
  },
  {
   "cell_type": "markdown",
   "id": "2067c50b-b9b9-4025-a014-07de4231e3bf",
   "metadata": {},
   "source": [
    "As suggested by [Ince et al. (2021)](https://doi.org/10.7554/eLife.62461), the lowest familywise error rate correcte _p_-value for each subject, obtained across all time points, can be seen as a global _p_-value for a subject -- here corresponding to a test of the null hypothesis that the subject shows above-chance decoding at any time across the whole epoch. "
   ]
  },
  {
   "cell_type": "code",
   "execution_count": 4,
   "id": "49d43bb2-b5ed-443f-9341-b030293edb3d",
   "metadata": {},
   "outputs": [],
   "source": [
    "# lowest FWER-corrected p-val across time is global p-val for subject\n",
    "ps_eeg_sub = ps_eeg.min(0)"
   ]
  },
  {
   "cell_type": "markdown",
   "id": "d063901a-1c3a-415d-9ba9-9e6083607b21",
   "metadata": {},
   "source": [
    "We'll fit a within-group difference prevalence model, allowing us to compare the prevalence of behavioral sensitivity around threshold and of above-chance decoding of behavior."
   ]
  },
  {
   "cell_type": "code",
   "execution_count": 5,
   "id": "e884f484-e08e-494c-bcdf-e29aefe11486",
   "metadata": {},
   "outputs": [
    {
     "name": "stderr",
     "output_type": "stream",
     "text": [
      "Auto-assigning NUTS sampler...\n",
      "Initializing NUTS using jitter+adapt_diag...\n",
      "Multiprocess sampling (5 chains in 5 jobs)\n",
      "NUTS: [effect_size, prevalence]\n"
     ]
    },
    {
     "data": {
      "application/vnd.jupyter.widget-view+json": {
       "model_id": "f82773d4c56a4337a288ff026df426a0",
       "version_major": 2,
       "version_minor": 0
      },
      "text/plain": [
       "Output()"
      ]
     },
     "metadata": {},
     "output_type": "display_data"
    },
    {
     "data": {
      "text/html": [
       "<pre style=\"white-space:pre;overflow-x:auto;line-height:normal;font-family:Menlo,'DejaVu Sans Mono',consolas,'Courier New',monospace\"></pre>\n"
      ],
      "text/plain": []
     },
     "metadata": {},
     "output_type": "display_data"
    },
    {
     "data": {
      "text/html": [
       "<pre style=\"white-space:pre;overflow-x:auto;line-height:normal;font-family:Menlo,'DejaVu Sans Mono',consolas,'Courier New',monospace\">\n",
       "</pre>\n"
      ],
      "text/plain": [
       "\n"
      ]
     },
     "metadata": {},
     "output_type": "display_data"
    },
    {
     "name": "stderr",
     "output_type": "stream",
     "text": [
      "Sampling 5 chains for 1_000 tune and 1_000 draw iterations (5_000 + 5_000 draws total) took 14 seconds.\n"
     ]
    },
    {
     "data": {
      "text/html": [
       "<div>\n",
       "<style scoped>\n",
       "    .dataframe tbody tr th:only-of-type {\n",
       "        vertical-align: middle;\n",
       "    }\n",
       "\n",
       "    .dataframe tbody tr th {\n",
       "        vertical-align: top;\n",
       "    }\n",
       "\n",
       "    .dataframe thead th {\n",
       "        text-align: right;\n",
       "    }\n",
       "</style>\n",
       "<table border=\"1\" class=\"dataframe\">\n",
       "  <thead>\n",
       "    <tr style=\"text-align: right;\">\n",
       "      <th></th>\n",
       "      <th>mean</th>\n",
       "      <th>sd</th>\n",
       "      <th>hdi_3%</th>\n",
       "      <th>hdi_97%</th>\n",
       "      <th>mcse_mean</th>\n",
       "      <th>mcse_sd</th>\n",
       "      <th>ess_bulk</th>\n",
       "      <th>ess_tail</th>\n",
       "      <th>r_hat</th>\n",
       "    </tr>\n",
       "  </thead>\n",
       "  <tbody>\n",
       "    <tr>\n",
       "      <th>effect_size[0]</th>\n",
       "      <td>2.306</td>\n",
       "      <td>0.295</td>\n",
       "      <td>1.767</td>\n",
       "      <td>2.860</td>\n",
       "      <td>0.005</td>\n",
       "      <td>0.003</td>\n",
       "      <td>3926.0</td>\n",
       "      <td>2905.0</td>\n",
       "      <td>1.0</td>\n",
       "    </tr>\n",
       "    <tr>\n",
       "      <th>effect_size[1]</th>\n",
       "      <td>3.388</td>\n",
       "      <td>0.209</td>\n",
       "      <td>2.976</td>\n",
       "      <td>3.762</td>\n",
       "      <td>0.003</td>\n",
       "      <td>0.002</td>\n",
       "      <td>4232.0</td>\n",
       "      <td>3083.0</td>\n",
       "      <td>1.0</td>\n",
       "    </tr>\n",
       "    <tr>\n",
       "      <th>effect_size_diff</th>\n",
       "      <td>1.083</td>\n",
       "      <td>0.357</td>\n",
       "      <td>0.428</td>\n",
       "      <td>1.773</td>\n",
       "      <td>0.006</td>\n",
       "      <td>0.004</td>\n",
       "      <td>4024.0</td>\n",
       "      <td>3489.0</td>\n",
       "      <td>1.0</td>\n",
       "    </tr>\n",
       "    <tr>\n",
       "      <th>prevalence_H1</th>\n",
       "      <td>0.655</td>\n",
       "      <td>0.107</td>\n",
       "      <td>0.473</td>\n",
       "      <td>0.870</td>\n",
       "      <td>0.002</td>\n",
       "      <td>0.001</td>\n",
       "      <td>4644.0</td>\n",
       "      <td>3883.0</td>\n",
       "      <td>1.0</td>\n",
       "    </tr>\n",
       "    <tr>\n",
       "      <th>prevalence_H2</th>\n",
       "      <td>0.922</td>\n",
       "      <td>0.051</td>\n",
       "      <td>0.831</td>\n",
       "      <td>0.996</td>\n",
       "      <td>0.001</td>\n",
       "      <td>0.001</td>\n",
       "      <td>4299.0</td>\n",
       "      <td>3337.0</td>\n",
       "      <td>1.0</td>\n",
       "    </tr>\n",
       "    <tr>\n",
       "      <th>prevalence_diff</th>\n",
       "      <td>0.268</td>\n",
       "      <td>0.114</td>\n",
       "      <td>0.054</td>\n",
       "      <td>0.479</td>\n",
       "      <td>0.002</td>\n",
       "      <td>0.001</td>\n",
       "      <td>3997.0</td>\n",
       "      <td>3944.0</td>\n",
       "      <td>1.0</td>\n",
       "    </tr>\n",
       "  </tbody>\n",
       "</table>\n",
       "</div>"
      ],
      "text/plain": [
       "                   mean     sd  hdi_3%  hdi_97%  mcse_mean  mcse_sd  ess_bulk  \\\n",
       "effect_size[0]    2.306  0.295   1.767    2.860      0.005    0.003    3926.0   \n",
       "effect_size[1]    3.388  0.209   2.976    3.762      0.003    0.002    4232.0   \n",
       "effect_size_diff  1.083  0.357   0.428    1.773      0.006    0.004    4024.0   \n",
       "prevalence_H1     0.655  0.107   0.473    0.870      0.002    0.001    4644.0   \n",
       "prevalence_H2     0.922  0.051   0.831    0.996      0.001    0.001    4299.0   \n",
       "prevalence_diff   0.268  0.114   0.054    0.479      0.002    0.001    3997.0   \n",
       "\n",
       "                  ess_tail  r_hat  \n",
       "effect_size[0]      2905.0    1.0  \n",
       "effect_size[1]      3083.0    1.0  \n",
       "effect_size_diff    3489.0    1.0  \n",
       "prevalence_H1       3883.0    1.0  \n",
       "prevalence_H2       3337.0    1.0  \n",
       "prevalence_diff     3944.0    1.0  "
      ]
     },
     "execution_count": 5,
     "metadata": {},
     "output_type": "execute_result"
    }
   ],
   "source": [
    "mod = PCurveWithinGroupDifference(ps_behav, ps_eeg_sub)\n",
    "mod.fit()\n",
    "mod.summary()"
   ]
  },
  {
   "cell_type": "code",
   "execution_count": 6,
   "id": "61e31a2a-7766-4d23-b0fa-85c7e053fcf1",
   "metadata": {},
   "outputs": [
    {
     "data": {
      "text/plain": [
       "array([0.8221053, 0.9958289])"
      ]
     },
     "execution_count": 6,
     "metadata": {},
     "output_type": "execute_result"
    }
   ],
   "source": [
    "decoding_prev = mod.prevalence_H2 # save posterior samples for plotting later\n",
    "az.hdi(decoding_prev, hdi_prob = .95) "
   ]
  },
  {
   "cell_type": "markdown",
   "id": "dd6736b2-5b1e-4889-b6e1-acc3bb997b6a",
   "metadata": {},
   "source": [
    "The prevalence of above-chance decoding of agency judgments from EEG (i.e. $H_2$ here) exceeds that of behaviorally sensitivity. The prevalence model also allows us to estimate $\\mathbb{P}(H_2|H_1)$, i.e. the conditional prevalence of $H_2$ given that $H_1$ is true, and $\\mathbb{P}(H_2|H_0)$. This allows us to evaluate the plasubility of claims in the form of \"the prevalence of $H_2$ is higher among people for whom $H_1$ is true.\"\n",
    "\n",
    "Let's get a 95% credible intervals for those quantities."
   ]
  },
  {
   "cell_type": "code",
   "execution_count": 7,
   "id": "0c56ce1a-7a63-4a41-9920-91c70c7006fa",
   "metadata": {},
   "outputs": [
    {
     "name": "stdout",
     "output_type": "stream",
     "text": [
      "Posterior mean = 0.881, HDI [0.668, 1.000]\n"
     ]
    }
   ],
   "source": [
    "hdi = az.hdi(mod.prob_H2_given_H0, hdi_prob = .95)\n",
    "m = mod.prob_H2_given_H0.mean()\n",
    "print('Posterior mean = %.03f, HDI [%.03f, %.03f]'%(m, hdi[0], hdi[1]))"
   ]
  },
  {
   "cell_type": "code",
   "execution_count": 8,
   "id": "1bb5fd61-fb71-477c-9891-273a7d9aaf9b",
   "metadata": {},
   "outputs": [
    {
     "name": "stdout",
     "output_type": "stream",
     "text": [
      "Posterior mean = 0.942, HDI [0.835, 1.000]\n"
     ]
    }
   ],
   "source": [
    "hdi = az.hdi(mod.prob_H2_given_H1, hdi_prob = .95)\n",
    "m = mod.prob_H2_given_H1.mean()\n",
    "print('Posterior mean = %.03f, HDI [%.03f, %.03f]'%(m, hdi[0], hdi[1]))"
   ]
  },
  {
   "cell_type": "markdown",
   "id": "9d51b198-3cea-4e96-a168-e310e7b93c98",
   "metadata": {},
   "source": [
    "We can also estimate the posterior of their difference. This estimate is interpreted much like the between-group prevalence difference estimated in other tutorials, but $H_0$ and $H_1$ group membership is inferred from the data instead of known _a priori;_ uncertainty about group assignments is appropriately accounted for in the conditional prevalence estimates."
   ]
  },
  {
   "cell_type": "code",
   "execution_count": 9,
   "id": "9bb79e8a-1d34-4b2d-9bbc-803aa6582e2b",
   "metadata": {},
   "outputs": [
    {
     "name": "stdout",
     "output_type": "stream",
     "text": [
      "Posterior mean = 0.061, HDI [-0.169, 0.321]\n"
     ]
    }
   ],
   "source": [
    "diff = mod.prob_H2_given_H1 - mod.prob_H2_given_H0\n",
    "hdi = az.hdi(diff, hdi_prob = .95)\n",
    "m = diff.mean()\n",
    "print('Posterior mean = %.03f, HDI [%.03f, %.03f]'%(m, hdi[0], hdi[1]))"
   ]
  },
  {
   "cell_type": "markdown",
   "id": "90391715-8119-4de3-91e2-c7a048563aa5",
   "metadata": {},
   "source": [
    "There doesn't appear to be strong evidence of difference in the prevalence of above-chance decoding _over the whole epoch_ contingent upon $H_1$ being true. However, we can also estimate these quantities, and their difference, for each time point following stimulation, since we have _p_-values for each time. In other words, even though there isn't a difference in _whether_ agency judgments can be decoded, there may still be a difference in _when_ they can be decoded. \n",
    "\n",
    ">**Warning:** The below code chunk can take quite a long time to run! (As it fits a seperate model at each time.)"
   ]
  },
  {
   "cell_type": "code",
   "execution_count": 10,
   "id": "027196b4-e7fa-4088-b492-fcc353682b25",
   "metadata": {},
   "outputs": [
    {
     "name": "stderr",
     "output_type": "stream",
     "text": [
      "Auto-assigning NUTS sampler...\n",
      "Initializing NUTS using jitter+adapt_diag...\n",
      "Multiprocess sampling (5 chains in 5 jobs)\n",
      "NUTS: [effect_size, prevalence]\n"
     ]
    },
    {
     "data": {
      "application/vnd.jupyter.widget-view+json": {
       "model_id": "b4d2348146774580b75db01cfaff96fd",
       "version_major": 2,
       "version_minor": 0
      },
      "text/plain": [
       "Output()"
      ]
     },
     "metadata": {},
     "output_type": "display_data"
    },
    {
     "data": {
      "text/html": [
       "<pre style=\"white-space:pre;overflow-x:auto;line-height:normal;font-family:Menlo,'DejaVu Sans Mono',consolas,'Courier New',monospace\"></pre>\n"
      ],
      "text/plain": []
     },
     "metadata": {},
     "output_type": "display_data"
    },
    {
     "data": {
      "text/html": [
       "<pre style=\"white-space:pre;overflow-x:auto;line-height:normal;font-family:Menlo,'DejaVu Sans Mono',consolas,'Courier New',monospace\">\n",
       "</pre>\n"
      ],
      "text/plain": [
       "\n"
      ]
     },
     "metadata": {},
     "output_type": "display_data"
    },
    {
     "name": "stderr",
     "output_type": "stream",
     "text": [
      "Sampling 5 chains for 1_000 tune and 1_000 draw iterations (5_000 + 5_000 draws total) took 10 seconds.\n",
      "Auto-assigning NUTS sampler...\n",
      "Initializing NUTS using jitter+adapt_diag...\n",
      "Multiprocess sampling (5 chains in 5 jobs)\n",
      "NUTS: [effect_size, prevalence]\n"
     ]
    },
    {
     "data": {
      "application/vnd.jupyter.widget-view+json": {
       "model_id": "ebbef6eff6ea4f71b67ae8fbc44417c0",
       "version_major": 2,
       "version_minor": 0
      },
      "text/plain": [
       "Output()"
      ]
     },
     "metadata": {},
     "output_type": "display_data"
    },
    {
     "data": {
      "text/html": [
       "<pre style=\"white-space:pre;overflow-x:auto;line-height:normal;font-family:Menlo,'DejaVu Sans Mono',consolas,'Courier New',monospace\"></pre>\n"
      ],
      "text/plain": []
     },
     "metadata": {},
     "output_type": "display_data"
    },
    {
     "data": {
      "text/html": [
       "<pre style=\"white-space:pre;overflow-x:auto;line-height:normal;font-family:Menlo,'DejaVu Sans Mono',consolas,'Courier New',monospace\">\n",
       "</pre>\n"
      ],
      "text/plain": [
       "\n"
      ]
     },
     "metadata": {},
     "output_type": "display_data"
    },
    {
     "name": "stderr",
     "output_type": "stream",
     "text": [
      "Sampling 5 chains for 1_000 tune and 1_000 draw iterations (5_000 + 5_000 draws total) took 12 seconds.\n",
      "Auto-assigning NUTS sampler...\n",
      "Initializing NUTS using jitter+adapt_diag...\n",
      "Multiprocess sampling (5 chains in 5 jobs)\n",
      "NUTS: [effect_size, prevalence]\n"
     ]
    },
    {
     "data": {
      "application/vnd.jupyter.widget-view+json": {
       "model_id": "d2f60e018efc4a03971842e7c775b402",
       "version_major": 2,
       "version_minor": 0
      },
      "text/plain": [
       "Output()"
      ]
     },
     "metadata": {},
     "output_type": "display_data"
    },
    {
     "data": {
      "text/html": [
       "<pre style=\"white-space:pre;overflow-x:auto;line-height:normal;font-family:Menlo,'DejaVu Sans Mono',consolas,'Courier New',monospace\"></pre>\n"
      ],
      "text/plain": []
     },
     "metadata": {},
     "output_type": "display_data"
    },
    {
     "data": {
      "text/html": [
       "<pre style=\"white-space:pre;overflow-x:auto;line-height:normal;font-family:Menlo,'DejaVu Sans Mono',consolas,'Courier New',monospace\">\n",
       "</pre>\n"
      ],
      "text/plain": [
       "\n"
      ]
     },
     "metadata": {},
     "output_type": "display_data"
    },
    {
     "name": "stderr",
     "output_type": "stream",
     "text": [
      "Sampling 5 chains for 1_000 tune and 1_000 draw iterations (5_000 + 5_000 draws total) took 12 seconds.\n",
      "Auto-assigning NUTS sampler...\n",
      "Initializing NUTS using jitter+adapt_diag...\n",
      "Multiprocess sampling (5 chains in 5 jobs)\n",
      "NUTS: [effect_size, prevalence]\n"
     ]
    },
    {
     "data": {
      "application/vnd.jupyter.widget-view+json": {
       "model_id": "cbecfd4a36b94e4f83e0071289a5b0fb",
       "version_major": 2,
       "version_minor": 0
      },
      "text/plain": [
       "Output()"
      ]
     },
     "metadata": {},
     "output_type": "display_data"
    },
    {
     "data": {
      "text/html": [
       "<pre style=\"white-space:pre;overflow-x:auto;line-height:normal;font-family:Menlo,'DejaVu Sans Mono',consolas,'Courier New',monospace\"></pre>\n"
      ],
      "text/plain": []
     },
     "metadata": {},
     "output_type": "display_data"
    },
    {
     "data": {
      "text/html": [
       "<pre style=\"white-space:pre;overflow-x:auto;line-height:normal;font-family:Menlo,'DejaVu Sans Mono',consolas,'Courier New',monospace\">\n",
       "</pre>\n"
      ],
      "text/plain": [
       "\n"
      ]
     },
     "metadata": {},
     "output_type": "display_data"
    },
    {
     "name": "stderr",
     "output_type": "stream",
     "text": [
      "Sampling 5 chains for 1_000 tune and 1_000 draw iterations (5_000 + 5_000 draws total) took 13 seconds.\n",
      "Auto-assigning NUTS sampler...\n",
      "Initializing NUTS using jitter+adapt_diag...\n",
      "Multiprocess sampling (5 chains in 5 jobs)\n",
      "NUTS: [effect_size, prevalence]\n"
     ]
    },
    {
     "data": {
      "application/vnd.jupyter.widget-view+json": {
       "model_id": "c8a72c67ebc2447bbf302211031a0340",
       "version_major": 2,
       "version_minor": 0
      },
      "text/plain": [
       "Output()"
      ]
     },
     "metadata": {},
     "output_type": "display_data"
    },
    {
     "data": {
      "text/html": [
       "<pre style=\"white-space:pre;overflow-x:auto;line-height:normal;font-family:Menlo,'DejaVu Sans Mono',consolas,'Courier New',monospace\"></pre>\n"
      ],
      "text/plain": []
     },
     "metadata": {},
     "output_type": "display_data"
    },
    {
     "data": {
      "text/html": [
       "<pre style=\"white-space:pre;overflow-x:auto;line-height:normal;font-family:Menlo,'DejaVu Sans Mono',consolas,'Courier New',monospace\">\n",
       "</pre>\n"
      ],
      "text/plain": [
       "\n"
      ]
     },
     "metadata": {},
     "output_type": "display_data"
    },
    {
     "name": "stderr",
     "output_type": "stream",
     "text": [
      "Sampling 5 chains for 1_000 tune and 1_000 draw iterations (5_000 + 5_000 draws total) took 11 seconds.\n",
      "Auto-assigning NUTS sampler...\n",
      "Initializing NUTS using jitter+adapt_diag...\n",
      "Multiprocess sampling (5 chains in 5 jobs)\n",
      "NUTS: [effect_size, prevalence]\n"
     ]
    },
    {
     "data": {
      "application/vnd.jupyter.widget-view+json": {
       "model_id": "2aab67d1f324414bbbbfc5532b30284a",
       "version_major": 2,
       "version_minor": 0
      },
      "text/plain": [
       "Output()"
      ]
     },
     "metadata": {},
     "output_type": "display_data"
    },
    {
     "data": {
      "text/html": [
       "<pre style=\"white-space:pre;overflow-x:auto;line-height:normal;font-family:Menlo,'DejaVu Sans Mono',consolas,'Courier New',monospace\"></pre>\n"
      ],
      "text/plain": []
     },
     "metadata": {},
     "output_type": "display_data"
    },
    {
     "data": {
      "text/html": [
       "<pre style=\"white-space:pre;overflow-x:auto;line-height:normal;font-family:Menlo,'DejaVu Sans Mono',consolas,'Courier New',monospace\">\n",
       "</pre>\n"
      ],
      "text/plain": [
       "\n"
      ]
     },
     "metadata": {},
     "output_type": "display_data"
    },
    {
     "name": "stderr",
     "output_type": "stream",
     "text": [
      "Sampling 5 chains for 1_000 tune and 1_000 draw iterations (5_000 + 5_000 draws total) took 10 seconds.\n",
      "Auto-assigning NUTS sampler...\n",
      "Initializing NUTS using jitter+adapt_diag...\n",
      "Multiprocess sampling (5 chains in 5 jobs)\n",
      "NUTS: [effect_size, prevalence]\n"
     ]
    },
    {
     "data": {
      "application/vnd.jupyter.widget-view+json": {
       "model_id": "2fbfd770311d4b59993c3ab57abe4664",
       "version_major": 2,
       "version_minor": 0
      },
      "text/plain": [
       "Output()"
      ]
     },
     "metadata": {},
     "output_type": "display_data"
    },
    {
     "data": {
      "text/html": [
       "<pre style=\"white-space:pre;overflow-x:auto;line-height:normal;font-family:Menlo,'DejaVu Sans Mono',consolas,'Courier New',monospace\"></pre>\n"
      ],
      "text/plain": []
     },
     "metadata": {},
     "output_type": "display_data"
    },
    {
     "data": {
      "text/html": [
       "<pre style=\"white-space:pre;overflow-x:auto;line-height:normal;font-family:Menlo,'DejaVu Sans Mono',consolas,'Courier New',monospace\">\n",
       "</pre>\n"
      ],
      "text/plain": [
       "\n"
      ]
     },
     "metadata": {},
     "output_type": "display_data"
    },
    {
     "name": "stderr",
     "output_type": "stream",
     "text": [
      "Sampling 5 chains for 1_000 tune and 1_000 draw iterations (5_000 + 5_000 draws total) took 10 seconds.\n",
      "Auto-assigning NUTS sampler...\n",
      "Initializing NUTS using jitter+adapt_diag...\n",
      "Multiprocess sampling (5 chains in 5 jobs)\n",
      "NUTS: [effect_size, prevalence]\n"
     ]
    },
    {
     "data": {
      "application/vnd.jupyter.widget-view+json": {
       "model_id": "3f12cc976a254b5c8a29bea95e24f7b9",
       "version_major": 2,
       "version_minor": 0
      },
      "text/plain": [
       "Output()"
      ]
     },
     "metadata": {},
     "output_type": "display_data"
    },
    {
     "data": {
      "text/html": [
       "<pre style=\"white-space:pre;overflow-x:auto;line-height:normal;font-family:Menlo,'DejaVu Sans Mono',consolas,'Courier New',monospace\"></pre>\n"
      ],
      "text/plain": []
     },
     "metadata": {},
     "output_type": "display_data"
    },
    {
     "data": {
      "text/html": [
       "<pre style=\"white-space:pre;overflow-x:auto;line-height:normal;font-family:Menlo,'DejaVu Sans Mono',consolas,'Courier New',monospace\">\n",
       "</pre>\n"
      ],
      "text/plain": [
       "\n"
      ]
     },
     "metadata": {},
     "output_type": "display_data"
    },
    {
     "name": "stderr",
     "output_type": "stream",
     "text": [
      "Sampling 5 chains for 1_000 tune and 1_000 draw iterations (5_000 + 5_000 draws total) took 11 seconds.\n",
      "Auto-assigning NUTS sampler...\n",
      "Initializing NUTS using jitter+adapt_diag...\n",
      "Multiprocess sampling (5 chains in 5 jobs)\n",
      "NUTS: [effect_size, prevalence]\n"
     ]
    },
    {
     "data": {
      "application/vnd.jupyter.widget-view+json": {
       "model_id": "d7b0117e67d04a09915aa266546c47d8",
       "version_major": 2,
       "version_minor": 0
      },
      "text/plain": [
       "Output()"
      ]
     },
     "metadata": {},
     "output_type": "display_data"
    },
    {
     "data": {
      "text/html": [
       "<pre style=\"white-space:pre;overflow-x:auto;line-height:normal;font-family:Menlo,'DejaVu Sans Mono',consolas,'Courier New',monospace\"></pre>\n"
      ],
      "text/plain": []
     },
     "metadata": {},
     "output_type": "display_data"
    },
    {
     "data": {
      "text/html": [
       "<pre style=\"white-space:pre;overflow-x:auto;line-height:normal;font-family:Menlo,'DejaVu Sans Mono',consolas,'Courier New',monospace\">\n",
       "</pre>\n"
      ],
      "text/plain": [
       "\n"
      ]
     },
     "metadata": {},
     "output_type": "display_data"
    },
    {
     "name": "stderr",
     "output_type": "stream",
     "text": [
      "Sampling 5 chains for 1_000 tune and 1_000 draw iterations (5_000 + 5_000 draws total) took 12 seconds.\n",
      "Auto-assigning NUTS sampler...\n",
      "Initializing NUTS using jitter+adapt_diag...\n",
      "Multiprocess sampling (5 chains in 5 jobs)\n",
      "NUTS: [effect_size, prevalence]\n"
     ]
    },
    {
     "data": {
      "application/vnd.jupyter.widget-view+json": {
       "model_id": "a087fcb4ad3f4c3fa472ad7dc8fa9050",
       "version_major": 2,
       "version_minor": 0
      },
      "text/plain": [
       "Output()"
      ]
     },
     "metadata": {},
     "output_type": "display_data"
    },
    {
     "data": {
      "text/html": [
       "<pre style=\"white-space:pre;overflow-x:auto;line-height:normal;font-family:Menlo,'DejaVu Sans Mono',consolas,'Courier New',monospace\"></pre>\n"
      ],
      "text/plain": []
     },
     "metadata": {},
     "output_type": "display_data"
    },
    {
     "data": {
      "text/html": [
       "<pre style=\"white-space:pre;overflow-x:auto;line-height:normal;font-family:Menlo,'DejaVu Sans Mono',consolas,'Courier New',monospace\">\n",
       "</pre>\n"
      ],
      "text/plain": [
       "\n"
      ]
     },
     "metadata": {},
     "output_type": "display_data"
    },
    {
     "name": "stderr",
     "output_type": "stream",
     "text": [
      "Sampling 5 chains for 1_000 tune and 1_000 draw iterations (5_000 + 5_000 draws total) took 12 seconds.\n",
      "Auto-assigning NUTS sampler...\n",
      "Initializing NUTS using jitter+adapt_diag...\n",
      "Multiprocess sampling (5 chains in 5 jobs)\n",
      "NUTS: [effect_size, prevalence]\n"
     ]
    },
    {
     "data": {
      "application/vnd.jupyter.widget-view+json": {
       "model_id": "d4a92e44e6f74e66ad3d5007f24e475e",
       "version_major": 2,
       "version_minor": 0
      },
      "text/plain": [
       "Output()"
      ]
     },
     "metadata": {},
     "output_type": "display_data"
    },
    {
     "data": {
      "text/html": [
       "<pre style=\"white-space:pre;overflow-x:auto;line-height:normal;font-family:Menlo,'DejaVu Sans Mono',consolas,'Courier New',monospace\"></pre>\n"
      ],
      "text/plain": []
     },
     "metadata": {},
     "output_type": "display_data"
    },
    {
     "data": {
      "text/html": [
       "<pre style=\"white-space:pre;overflow-x:auto;line-height:normal;font-family:Menlo,'DejaVu Sans Mono',consolas,'Courier New',monospace\">\n",
       "</pre>\n"
      ],
      "text/plain": [
       "\n"
      ]
     },
     "metadata": {},
     "output_type": "display_data"
    },
    {
     "name": "stderr",
     "output_type": "stream",
     "text": [
      "Sampling 5 chains for 1_000 tune and 1_000 draw iterations (5_000 + 5_000 draws total) took 12 seconds.\n",
      "Auto-assigning NUTS sampler...\n",
      "Initializing NUTS using jitter+adapt_diag...\n",
      "Multiprocess sampling (5 chains in 5 jobs)\n",
      "NUTS: [effect_size, prevalence]\n"
     ]
    },
    {
     "data": {
      "application/vnd.jupyter.widget-view+json": {
       "model_id": "b390cfc5cb8f419d985cb2eea7a3589e",
       "version_major": 2,
       "version_minor": 0
      },
      "text/plain": [
       "Output()"
      ]
     },
     "metadata": {},
     "output_type": "display_data"
    },
    {
     "data": {
      "text/html": [
       "<pre style=\"white-space:pre;overflow-x:auto;line-height:normal;font-family:Menlo,'DejaVu Sans Mono',consolas,'Courier New',monospace\"></pre>\n"
      ],
      "text/plain": []
     },
     "metadata": {},
     "output_type": "display_data"
    },
    {
     "data": {
      "text/html": [
       "<pre style=\"white-space:pre;overflow-x:auto;line-height:normal;font-family:Menlo,'DejaVu Sans Mono',consolas,'Courier New',monospace\">\n",
       "</pre>\n"
      ],
      "text/plain": [
       "\n"
      ]
     },
     "metadata": {},
     "output_type": "display_data"
    },
    {
     "name": "stderr",
     "output_type": "stream",
     "text": [
      "Sampling 5 chains for 1_000 tune and 1_000 draw iterations (5_000 + 5_000 draws total) took 13 seconds.\n",
      "Auto-assigning NUTS sampler...\n",
      "Initializing NUTS using jitter+adapt_diag...\n",
      "Multiprocess sampling (5 chains in 5 jobs)\n",
      "NUTS: [effect_size, prevalence]\n"
     ]
    },
    {
     "data": {
      "application/vnd.jupyter.widget-view+json": {
       "model_id": "6ef92764ad954a438977719a719835e1",
       "version_major": 2,
       "version_minor": 0
      },
      "text/plain": [
       "Output()"
      ]
     },
     "metadata": {},
     "output_type": "display_data"
    },
    {
     "data": {
      "text/html": [
       "<pre style=\"white-space:pre;overflow-x:auto;line-height:normal;font-family:Menlo,'DejaVu Sans Mono',consolas,'Courier New',monospace\"></pre>\n"
      ],
      "text/plain": []
     },
     "metadata": {},
     "output_type": "display_data"
    },
    {
     "data": {
      "text/html": [
       "<pre style=\"white-space:pre;overflow-x:auto;line-height:normal;font-family:Menlo,'DejaVu Sans Mono',consolas,'Courier New',monospace\">\n",
       "</pre>\n"
      ],
      "text/plain": [
       "\n"
      ]
     },
     "metadata": {},
     "output_type": "display_data"
    },
    {
     "name": "stderr",
     "output_type": "stream",
     "text": [
      "Sampling 5 chains for 1_000 tune and 1_000 draw iterations (5_000 + 5_000 draws total) took 14 seconds.\n",
      "Auto-assigning NUTS sampler...\n",
      "Initializing NUTS using jitter+adapt_diag...\n",
      "Multiprocess sampling (5 chains in 5 jobs)\n",
      "NUTS: [effect_size, prevalence]\n"
     ]
    },
    {
     "data": {
      "application/vnd.jupyter.widget-view+json": {
       "model_id": "386e5fd2b86c4599b562be2164535d96",
       "version_major": 2,
       "version_minor": 0
      },
      "text/plain": [
       "Output()"
      ]
     },
     "metadata": {},
     "output_type": "display_data"
    },
    {
     "data": {
      "text/html": [
       "<pre style=\"white-space:pre;overflow-x:auto;line-height:normal;font-family:Menlo,'DejaVu Sans Mono',consolas,'Courier New',monospace\"></pre>\n"
      ],
      "text/plain": []
     },
     "metadata": {},
     "output_type": "display_data"
    },
    {
     "data": {
      "text/html": [
       "<pre style=\"white-space:pre;overflow-x:auto;line-height:normal;font-family:Menlo,'DejaVu Sans Mono',consolas,'Courier New',monospace\">\n",
       "</pre>\n"
      ],
      "text/plain": [
       "\n"
      ]
     },
     "metadata": {},
     "output_type": "display_data"
    },
    {
     "name": "stderr",
     "output_type": "stream",
     "text": [
      "Sampling 5 chains for 1_000 tune and 1_000 draw iterations (5_000 + 5_000 draws total) took 11 seconds.\n",
      "Auto-assigning NUTS sampler...\n",
      "Initializing NUTS using jitter+adapt_diag...\n",
      "Multiprocess sampling (5 chains in 5 jobs)\n",
      "NUTS: [effect_size, prevalence]\n"
     ]
    },
    {
     "data": {
      "application/vnd.jupyter.widget-view+json": {
       "model_id": "f7d1b7bc72814ddc80648b4e9fce7991",
       "version_major": 2,
       "version_minor": 0
      },
      "text/plain": [
       "Output()"
      ]
     },
     "metadata": {},
     "output_type": "display_data"
    },
    {
     "data": {
      "text/html": [
       "<pre style=\"white-space:pre;overflow-x:auto;line-height:normal;font-family:Menlo,'DejaVu Sans Mono',consolas,'Courier New',monospace\"></pre>\n"
      ],
      "text/plain": []
     },
     "metadata": {},
     "output_type": "display_data"
    },
    {
     "data": {
      "text/html": [
       "<pre style=\"white-space:pre;overflow-x:auto;line-height:normal;font-family:Menlo,'DejaVu Sans Mono',consolas,'Courier New',monospace\">\n",
       "</pre>\n"
      ],
      "text/plain": [
       "\n"
      ]
     },
     "metadata": {},
     "output_type": "display_data"
    },
    {
     "name": "stderr",
     "output_type": "stream",
     "text": [
      "Sampling 5 chains for 1_000 tune and 1_000 draw iterations (5_000 + 5_000 draws total) took 12 seconds.\n",
      "Auto-assigning NUTS sampler...\n",
      "Initializing NUTS using jitter+adapt_diag...\n",
      "Multiprocess sampling (5 chains in 5 jobs)\n",
      "NUTS: [effect_size, prevalence]\n"
     ]
    },
    {
     "data": {
      "application/vnd.jupyter.widget-view+json": {
       "model_id": "76b544ff4b254857b8666b233ce01a19",
       "version_major": 2,
       "version_minor": 0
      },
      "text/plain": [
       "Output()"
      ]
     },
     "metadata": {},
     "output_type": "display_data"
    },
    {
     "data": {
      "text/html": [
       "<pre style=\"white-space:pre;overflow-x:auto;line-height:normal;font-family:Menlo,'DejaVu Sans Mono',consolas,'Courier New',monospace\"></pre>\n"
      ],
      "text/plain": []
     },
     "metadata": {},
     "output_type": "display_data"
    },
    {
     "data": {
      "text/html": [
       "<pre style=\"white-space:pre;overflow-x:auto;line-height:normal;font-family:Menlo,'DejaVu Sans Mono',consolas,'Courier New',monospace\">\n",
       "</pre>\n"
      ],
      "text/plain": [
       "\n"
      ]
     },
     "metadata": {},
     "output_type": "display_data"
    },
    {
     "name": "stderr",
     "output_type": "stream",
     "text": [
      "Sampling 5 chains for 1_000 tune and 1_000 draw iterations (5_000 + 5_000 draws total) took 11 seconds.\n",
      "Auto-assigning NUTS sampler...\n",
      "Initializing NUTS using jitter+adapt_diag...\n",
      "Multiprocess sampling (5 chains in 5 jobs)\n",
      "NUTS: [effect_size, prevalence]\n"
     ]
    },
    {
     "data": {
      "application/vnd.jupyter.widget-view+json": {
       "model_id": "26fafc266bce4aeda0ed9638aac0917a",
       "version_major": 2,
       "version_minor": 0
      },
      "text/plain": [
       "Output()"
      ]
     },
     "metadata": {},
     "output_type": "display_data"
    },
    {
     "data": {
      "text/html": [
       "<pre style=\"white-space:pre;overflow-x:auto;line-height:normal;font-family:Menlo,'DejaVu Sans Mono',consolas,'Courier New',monospace\"></pre>\n"
      ],
      "text/plain": []
     },
     "metadata": {},
     "output_type": "display_data"
    },
    {
     "data": {
      "text/html": [
       "<pre style=\"white-space:pre;overflow-x:auto;line-height:normal;font-family:Menlo,'DejaVu Sans Mono',consolas,'Courier New',monospace\">\n",
       "</pre>\n"
      ],
      "text/plain": [
       "\n"
      ]
     },
     "metadata": {},
     "output_type": "display_data"
    },
    {
     "name": "stderr",
     "output_type": "stream",
     "text": [
      "Sampling 5 chains for 1_000 tune and 1_000 draw iterations (5_000 + 5_000 draws total) took 12 seconds.\n",
      "Auto-assigning NUTS sampler...\n",
      "Initializing NUTS using jitter+adapt_diag...\n",
      "Multiprocess sampling (5 chains in 5 jobs)\n",
      "NUTS: [effect_size, prevalence]\n"
     ]
    },
    {
     "data": {
      "application/vnd.jupyter.widget-view+json": {
       "model_id": "4b988511c3e6479880ec2081750a8903",
       "version_major": 2,
       "version_minor": 0
      },
      "text/plain": [
       "Output()"
      ]
     },
     "metadata": {},
     "output_type": "display_data"
    },
    {
     "data": {
      "text/html": [
       "<pre style=\"white-space:pre;overflow-x:auto;line-height:normal;font-family:Menlo,'DejaVu Sans Mono',consolas,'Courier New',monospace\"></pre>\n"
      ],
      "text/plain": []
     },
     "metadata": {},
     "output_type": "display_data"
    },
    {
     "data": {
      "text/html": [
       "<pre style=\"white-space:pre;overflow-x:auto;line-height:normal;font-family:Menlo,'DejaVu Sans Mono',consolas,'Courier New',monospace\">\n",
       "</pre>\n"
      ],
      "text/plain": [
       "\n"
      ]
     },
     "metadata": {},
     "output_type": "display_data"
    },
    {
     "name": "stderr",
     "output_type": "stream",
     "text": [
      "Sampling 5 chains for 1_000 tune and 1_000 draw iterations (5_000 + 5_000 draws total) took 11 seconds.\n",
      "Auto-assigning NUTS sampler...\n",
      "Initializing NUTS using jitter+adapt_diag...\n",
      "Multiprocess sampling (5 chains in 5 jobs)\n",
      "NUTS: [effect_size, prevalence]\n"
     ]
    },
    {
     "data": {
      "application/vnd.jupyter.widget-view+json": {
       "model_id": "7dd45a3c33ef4890b99cdf6080ca72bb",
       "version_major": 2,
       "version_minor": 0
      },
      "text/plain": [
       "Output()"
      ]
     },
     "metadata": {},
     "output_type": "display_data"
    },
    {
     "data": {
      "text/html": [
       "<pre style=\"white-space:pre;overflow-x:auto;line-height:normal;font-family:Menlo,'DejaVu Sans Mono',consolas,'Courier New',monospace\"></pre>\n"
      ],
      "text/plain": []
     },
     "metadata": {},
     "output_type": "display_data"
    },
    {
     "data": {
      "text/html": [
       "<pre style=\"white-space:pre;overflow-x:auto;line-height:normal;font-family:Menlo,'DejaVu Sans Mono',consolas,'Courier New',monospace\">\n",
       "</pre>\n"
      ],
      "text/plain": [
       "\n"
      ]
     },
     "metadata": {},
     "output_type": "display_data"
    },
    {
     "name": "stderr",
     "output_type": "stream",
     "text": [
      "Sampling 5 chains for 1_000 tune and 1_000 draw iterations (5_000 + 5_000 draws total) took 13 seconds.\n",
      "Auto-assigning NUTS sampler...\n",
      "Initializing NUTS using jitter+adapt_diag...\n",
      "Multiprocess sampling (5 chains in 5 jobs)\n",
      "NUTS: [effect_size, prevalence]\n"
     ]
    },
    {
     "data": {
      "application/vnd.jupyter.widget-view+json": {
       "model_id": "c9edfcd626634962a1767ab9cf8d2034",
       "version_major": 2,
       "version_minor": 0
      },
      "text/plain": [
       "Output()"
      ]
     },
     "metadata": {},
     "output_type": "display_data"
    },
    {
     "data": {
      "text/html": [
       "<pre style=\"white-space:pre;overflow-x:auto;line-height:normal;font-family:Menlo,'DejaVu Sans Mono',consolas,'Courier New',monospace\"></pre>\n"
      ],
      "text/plain": []
     },
     "metadata": {},
     "output_type": "display_data"
    },
    {
     "data": {
      "text/html": [
       "<pre style=\"white-space:pre;overflow-x:auto;line-height:normal;font-family:Menlo,'DejaVu Sans Mono',consolas,'Courier New',monospace\">\n",
       "</pre>\n"
      ],
      "text/plain": [
       "\n"
      ]
     },
     "metadata": {},
     "output_type": "display_data"
    },
    {
     "name": "stderr",
     "output_type": "stream",
     "text": [
      "Sampling 5 chains for 1_000 tune and 1_000 draw iterations (5_000 + 5_000 draws total) took 13 seconds.\n",
      "Auto-assigning NUTS sampler...\n",
      "Initializing NUTS using jitter+adapt_diag...\n",
      "Multiprocess sampling (5 chains in 5 jobs)\n",
      "NUTS: [effect_size, prevalence]\n"
     ]
    },
    {
     "data": {
      "application/vnd.jupyter.widget-view+json": {
       "model_id": "e8b612937bb24a01a1ea97ffa57db155",
       "version_major": 2,
       "version_minor": 0
      },
      "text/plain": [
       "Output()"
      ]
     },
     "metadata": {},
     "output_type": "display_data"
    },
    {
     "data": {
      "text/html": [
       "<pre style=\"white-space:pre;overflow-x:auto;line-height:normal;font-family:Menlo,'DejaVu Sans Mono',consolas,'Courier New',monospace\"></pre>\n"
      ],
      "text/plain": []
     },
     "metadata": {},
     "output_type": "display_data"
    },
    {
     "data": {
      "text/html": [
       "<pre style=\"white-space:pre;overflow-x:auto;line-height:normal;font-family:Menlo,'DejaVu Sans Mono',consolas,'Courier New',monospace\">\n",
       "</pre>\n"
      ],
      "text/plain": [
       "\n"
      ]
     },
     "metadata": {},
     "output_type": "display_data"
    },
    {
     "name": "stderr",
     "output_type": "stream",
     "text": [
      "Sampling 5 chains for 1_000 tune and 1_000 draw iterations (5_000 + 5_000 draws total) took 14 seconds.\n",
      "Auto-assigning NUTS sampler...\n",
      "Initializing NUTS using jitter+adapt_diag...\n",
      "Multiprocess sampling (5 chains in 5 jobs)\n",
      "NUTS: [effect_size, prevalence]\n"
     ]
    },
    {
     "data": {
      "application/vnd.jupyter.widget-view+json": {
       "model_id": "7c62832720ea48478a1b55a3a943be3c",
       "version_major": 2,
       "version_minor": 0
      },
      "text/plain": [
       "Output()"
      ]
     },
     "metadata": {},
     "output_type": "display_data"
    },
    {
     "data": {
      "text/html": [
       "<pre style=\"white-space:pre;overflow-x:auto;line-height:normal;font-family:Menlo,'DejaVu Sans Mono',consolas,'Courier New',monospace\"></pre>\n"
      ],
      "text/plain": []
     },
     "metadata": {},
     "output_type": "display_data"
    },
    {
     "data": {
      "text/html": [
       "<pre style=\"white-space:pre;overflow-x:auto;line-height:normal;font-family:Menlo,'DejaVu Sans Mono',consolas,'Courier New',monospace\">\n",
       "</pre>\n"
      ],
      "text/plain": [
       "\n"
      ]
     },
     "metadata": {},
     "output_type": "display_data"
    },
    {
     "name": "stderr",
     "output_type": "stream",
     "text": [
      "Sampling 5 chains for 1_000 tune and 1_000 draw iterations (5_000 + 5_000 draws total) took 11 seconds.\n",
      "Auto-assigning NUTS sampler...\n",
      "Initializing NUTS using jitter+adapt_diag...\n",
      "Multiprocess sampling (5 chains in 5 jobs)\n",
      "NUTS: [effect_size, prevalence]\n"
     ]
    },
    {
     "data": {
      "application/vnd.jupyter.widget-view+json": {
       "model_id": "3375bf975dee46e68f09f8ccc043efb8",
       "version_major": 2,
       "version_minor": 0
      },
      "text/plain": [
       "Output()"
      ]
     },
     "metadata": {},
     "output_type": "display_data"
    },
    {
     "data": {
      "text/html": [
       "<pre style=\"white-space:pre;overflow-x:auto;line-height:normal;font-family:Menlo,'DejaVu Sans Mono',consolas,'Courier New',monospace\"></pre>\n"
      ],
      "text/plain": []
     },
     "metadata": {},
     "output_type": "display_data"
    },
    {
     "data": {
      "text/html": [
       "<pre style=\"white-space:pre;overflow-x:auto;line-height:normal;font-family:Menlo,'DejaVu Sans Mono',consolas,'Courier New',monospace\">\n",
       "</pre>\n"
      ],
      "text/plain": [
       "\n"
      ]
     },
     "metadata": {},
     "output_type": "display_data"
    },
    {
     "name": "stderr",
     "output_type": "stream",
     "text": [
      "Sampling 5 chains for 1_000 tune and 1_000 draw iterations (5_000 + 5_000 draws total) took 13 seconds.\n",
      "Auto-assigning NUTS sampler...\n",
      "Initializing NUTS using jitter+adapt_diag...\n",
      "Multiprocess sampling (5 chains in 5 jobs)\n",
      "NUTS: [effect_size, prevalence]\n"
     ]
    },
    {
     "data": {
      "application/vnd.jupyter.widget-view+json": {
       "model_id": "097612d3f8f74d6591bbe3c3b76fccbe",
       "version_major": 2,
       "version_minor": 0
      },
      "text/plain": [
       "Output()"
      ]
     },
     "metadata": {},
     "output_type": "display_data"
    },
    {
     "data": {
      "text/html": [
       "<pre style=\"white-space:pre;overflow-x:auto;line-height:normal;font-family:Menlo,'DejaVu Sans Mono',consolas,'Courier New',monospace\"></pre>\n"
      ],
      "text/plain": []
     },
     "metadata": {},
     "output_type": "display_data"
    },
    {
     "data": {
      "text/html": [
       "<pre style=\"white-space:pre;overflow-x:auto;line-height:normal;font-family:Menlo,'DejaVu Sans Mono',consolas,'Courier New',monospace\">\n",
       "</pre>\n"
      ],
      "text/plain": [
       "\n"
      ]
     },
     "metadata": {},
     "output_type": "display_data"
    },
    {
     "name": "stderr",
     "output_type": "stream",
     "text": [
      "Sampling 5 chains for 1_000 tune and 1_000 draw iterations (5_000 + 5_000 draws total) took 13 seconds.\n",
      "Auto-assigning NUTS sampler...\n",
      "Initializing NUTS using jitter+adapt_diag...\n",
      "Multiprocess sampling (5 chains in 5 jobs)\n",
      "NUTS: [effect_size, prevalence]\n"
     ]
    },
    {
     "data": {
      "application/vnd.jupyter.widget-view+json": {
       "model_id": "8c2f2fbc5ec14257b504fc6bf31f3587",
       "version_major": 2,
       "version_minor": 0
      },
      "text/plain": [
       "Output()"
      ]
     },
     "metadata": {},
     "output_type": "display_data"
    },
    {
     "data": {
      "text/html": [
       "<pre style=\"white-space:pre;overflow-x:auto;line-height:normal;font-family:Menlo,'DejaVu Sans Mono',consolas,'Courier New',monospace\"></pre>\n"
      ],
      "text/plain": []
     },
     "metadata": {},
     "output_type": "display_data"
    },
    {
     "data": {
      "text/html": [
       "<pre style=\"white-space:pre;overflow-x:auto;line-height:normal;font-family:Menlo,'DejaVu Sans Mono',consolas,'Courier New',monospace\">\n",
       "</pre>\n"
      ],
      "text/plain": [
       "\n"
      ]
     },
     "metadata": {},
     "output_type": "display_data"
    },
    {
     "name": "stderr",
     "output_type": "stream",
     "text": [
      "Sampling 5 chains for 1_000 tune and 1_000 draw iterations (5_000 + 5_000 draws total) took 12 seconds.\n",
      "Auto-assigning NUTS sampler...\n",
      "Initializing NUTS using jitter+adapt_diag...\n",
      "Multiprocess sampling (5 chains in 5 jobs)\n",
      "NUTS: [effect_size, prevalence]\n"
     ]
    },
    {
     "data": {
      "application/vnd.jupyter.widget-view+json": {
       "model_id": "05c2f6cf67d440588b3e5a2584757fb9",
       "version_major": 2,
       "version_minor": 0
      },
      "text/plain": [
       "Output()"
      ]
     },
     "metadata": {},
     "output_type": "display_data"
    },
    {
     "data": {
      "text/html": [
       "<pre style=\"white-space:pre;overflow-x:auto;line-height:normal;font-family:Menlo,'DejaVu Sans Mono',consolas,'Courier New',monospace\"></pre>\n"
      ],
      "text/plain": []
     },
     "metadata": {},
     "output_type": "display_data"
    },
    {
     "data": {
      "text/html": [
       "<pre style=\"white-space:pre;overflow-x:auto;line-height:normal;font-family:Menlo,'DejaVu Sans Mono',consolas,'Courier New',monospace\">\n",
       "</pre>\n"
      ],
      "text/plain": [
       "\n"
      ]
     },
     "metadata": {},
     "output_type": "display_data"
    },
    {
     "name": "stderr",
     "output_type": "stream",
     "text": [
      "Sampling 5 chains for 1_000 tune and 1_000 draw iterations (5_000 + 5_000 draws total) took 12 seconds.\n",
      "Auto-assigning NUTS sampler...\n",
      "Initializing NUTS using jitter+adapt_diag...\n",
      "Multiprocess sampling (5 chains in 5 jobs)\n",
      "NUTS: [effect_size, prevalence]\n"
     ]
    },
    {
     "data": {
      "application/vnd.jupyter.widget-view+json": {
       "model_id": "f68bf7734ace4fcea54ff649c2eee5cb",
       "version_major": 2,
       "version_minor": 0
      },
      "text/plain": [
       "Output()"
      ]
     },
     "metadata": {},
     "output_type": "display_data"
    },
    {
     "data": {
      "text/html": [
       "<pre style=\"white-space:pre;overflow-x:auto;line-height:normal;font-family:Menlo,'DejaVu Sans Mono',consolas,'Courier New',monospace\"></pre>\n"
      ],
      "text/plain": []
     },
     "metadata": {},
     "output_type": "display_data"
    },
    {
     "data": {
      "text/html": [
       "<pre style=\"white-space:pre;overflow-x:auto;line-height:normal;font-family:Menlo,'DejaVu Sans Mono',consolas,'Courier New',monospace\">\n",
       "</pre>\n"
      ],
      "text/plain": [
       "\n"
      ]
     },
     "metadata": {},
     "output_type": "display_data"
    },
    {
     "name": "stderr",
     "output_type": "stream",
     "text": [
      "Sampling 5 chains for 1_000 tune and 1_000 draw iterations (5_000 + 5_000 draws total) took 11 seconds.\n",
      "Auto-assigning NUTS sampler...\n",
      "Initializing NUTS using jitter+adapt_diag...\n",
      "Multiprocess sampling (5 chains in 5 jobs)\n",
      "NUTS: [effect_size, prevalence]\n"
     ]
    },
    {
     "data": {
      "application/vnd.jupyter.widget-view+json": {
       "model_id": "43a7a58f55bf463cb8e22dc86819e1cf",
       "version_major": 2,
       "version_minor": 0
      },
      "text/plain": [
       "Output()"
      ]
     },
     "metadata": {},
     "output_type": "display_data"
    },
    {
     "data": {
      "text/html": [
       "<pre style=\"white-space:pre;overflow-x:auto;line-height:normal;font-family:Menlo,'DejaVu Sans Mono',consolas,'Courier New',monospace\"></pre>\n"
      ],
      "text/plain": []
     },
     "metadata": {},
     "output_type": "display_data"
    },
    {
     "data": {
      "text/html": [
       "<pre style=\"white-space:pre;overflow-x:auto;line-height:normal;font-family:Menlo,'DejaVu Sans Mono',consolas,'Courier New',monospace\">\n",
       "</pre>\n"
      ],
      "text/plain": [
       "\n"
      ]
     },
     "metadata": {},
     "output_type": "display_data"
    },
    {
     "name": "stderr",
     "output_type": "stream",
     "text": [
      "Sampling 5 chains for 1_000 tune and 1_000 draw iterations (5_000 + 5_000 draws total) took 13 seconds.\n",
      "Auto-assigning NUTS sampler...\n",
      "Initializing NUTS using jitter+adapt_diag...\n",
      "Multiprocess sampling (5 chains in 5 jobs)\n",
      "NUTS: [effect_size, prevalence]\n"
     ]
    },
    {
     "data": {
      "application/vnd.jupyter.widget-view+json": {
       "model_id": "dcedcfda36f5462da3cf34e91fe754ee",
       "version_major": 2,
       "version_minor": 0
      },
      "text/plain": [
       "Output()"
      ]
     },
     "metadata": {},
     "output_type": "display_data"
    },
    {
     "data": {
      "text/html": [
       "<pre style=\"white-space:pre;overflow-x:auto;line-height:normal;font-family:Menlo,'DejaVu Sans Mono',consolas,'Courier New',monospace\"></pre>\n"
      ],
      "text/plain": []
     },
     "metadata": {},
     "output_type": "display_data"
    },
    {
     "data": {
      "text/html": [
       "<pre style=\"white-space:pre;overflow-x:auto;line-height:normal;font-family:Menlo,'DejaVu Sans Mono',consolas,'Courier New',monospace\">\n",
       "</pre>\n"
      ],
      "text/plain": [
       "\n"
      ]
     },
     "metadata": {},
     "output_type": "display_data"
    },
    {
     "name": "stderr",
     "output_type": "stream",
     "text": [
      "Sampling 5 chains for 1_000 tune and 1_000 draw iterations (5_000 + 5_000 draws total) took 13 seconds.\n",
      "Auto-assigning NUTS sampler...\n",
      "Initializing NUTS using jitter+adapt_diag...\n",
      "Multiprocess sampling (5 chains in 5 jobs)\n",
      "NUTS: [effect_size, prevalence]\n"
     ]
    },
    {
     "data": {
      "application/vnd.jupyter.widget-view+json": {
       "model_id": "60168544160347b19e4c352edae5a6ee",
       "version_major": 2,
       "version_minor": 0
      },
      "text/plain": [
       "Output()"
      ]
     },
     "metadata": {},
     "output_type": "display_data"
    },
    {
     "data": {
      "text/html": [
       "<pre style=\"white-space:pre;overflow-x:auto;line-height:normal;font-family:Menlo,'DejaVu Sans Mono',consolas,'Courier New',monospace\"></pre>\n"
      ],
      "text/plain": []
     },
     "metadata": {},
     "output_type": "display_data"
    },
    {
     "data": {
      "text/html": [
       "<pre style=\"white-space:pre;overflow-x:auto;line-height:normal;font-family:Menlo,'DejaVu Sans Mono',consolas,'Courier New',monospace\">\n",
       "</pre>\n"
      ],
      "text/plain": [
       "\n"
      ]
     },
     "metadata": {},
     "output_type": "display_data"
    },
    {
     "name": "stderr",
     "output_type": "stream",
     "text": [
      "Sampling 5 chains for 1_000 tune and 1_000 draw iterations (5_000 + 5_000 draws total) took 12 seconds.\n",
      "Auto-assigning NUTS sampler...\n",
      "Initializing NUTS using jitter+adapt_diag...\n",
      "Multiprocess sampling (5 chains in 5 jobs)\n",
      "NUTS: [effect_size, prevalence]\n"
     ]
    },
    {
     "data": {
      "application/vnd.jupyter.widget-view+json": {
       "model_id": "ebf54b608be449ff8f26307c5ab36d9f",
       "version_major": 2,
       "version_minor": 0
      },
      "text/plain": [
       "Output()"
      ]
     },
     "metadata": {},
     "output_type": "display_data"
    },
    {
     "data": {
      "text/html": [
       "<pre style=\"white-space:pre;overflow-x:auto;line-height:normal;font-family:Menlo,'DejaVu Sans Mono',consolas,'Courier New',monospace\"></pre>\n"
      ],
      "text/plain": []
     },
     "metadata": {},
     "output_type": "display_data"
    },
    {
     "data": {
      "text/html": [
       "<pre style=\"white-space:pre;overflow-x:auto;line-height:normal;font-family:Menlo,'DejaVu Sans Mono',consolas,'Courier New',monospace\">\n",
       "</pre>\n"
      ],
      "text/plain": [
       "\n"
      ]
     },
     "metadata": {},
     "output_type": "display_data"
    },
    {
     "name": "stderr",
     "output_type": "stream",
     "text": [
      "Sampling 5 chains for 1_000 tune and 1_000 draw iterations (5_000 + 5_000 draws total) took 12 seconds.\n",
      "Auto-assigning NUTS sampler...\n",
      "Initializing NUTS using jitter+adapt_diag...\n",
      "Multiprocess sampling (5 chains in 5 jobs)\n",
      "NUTS: [effect_size, prevalence]\n"
     ]
    },
    {
     "data": {
      "application/vnd.jupyter.widget-view+json": {
       "model_id": "4924ee47be54432d95fe53d079f4fb13",
       "version_major": 2,
       "version_minor": 0
      },
      "text/plain": [
       "Output()"
      ]
     },
     "metadata": {},
     "output_type": "display_data"
    },
    {
     "data": {
      "text/html": [
       "<pre style=\"white-space:pre;overflow-x:auto;line-height:normal;font-family:Menlo,'DejaVu Sans Mono',consolas,'Courier New',monospace\"></pre>\n"
      ],
      "text/plain": []
     },
     "metadata": {},
     "output_type": "display_data"
    },
    {
     "data": {
      "text/html": [
       "<pre style=\"white-space:pre;overflow-x:auto;line-height:normal;font-family:Menlo,'DejaVu Sans Mono',consolas,'Courier New',monospace\">\n",
       "</pre>\n"
      ],
      "text/plain": [
       "\n"
      ]
     },
     "metadata": {},
     "output_type": "display_data"
    },
    {
     "name": "stderr",
     "output_type": "stream",
     "text": [
      "Sampling 5 chains for 1_000 tune and 1_000 draw iterations (5_000 + 5_000 draws total) took 12 seconds.\n",
      "Auto-assigning NUTS sampler...\n",
      "Initializing NUTS using jitter+adapt_diag...\n",
      "Multiprocess sampling (5 chains in 5 jobs)\n",
      "NUTS: [effect_size, prevalence]\n"
     ]
    },
    {
     "data": {
      "application/vnd.jupyter.widget-view+json": {
       "model_id": "9166d7e4f2124cffb3a4c335fa4aa657",
       "version_major": 2,
       "version_minor": 0
      },
      "text/plain": [
       "Output()"
      ]
     },
     "metadata": {},
     "output_type": "display_data"
    },
    {
     "data": {
      "text/html": [
       "<pre style=\"white-space:pre;overflow-x:auto;line-height:normal;font-family:Menlo,'DejaVu Sans Mono',consolas,'Courier New',monospace\"></pre>\n"
      ],
      "text/plain": []
     },
     "metadata": {},
     "output_type": "display_data"
    },
    {
     "data": {
      "text/html": [
       "<pre style=\"white-space:pre;overflow-x:auto;line-height:normal;font-family:Menlo,'DejaVu Sans Mono',consolas,'Courier New',monospace\">\n",
       "</pre>\n"
      ],
      "text/plain": [
       "\n"
      ]
     },
     "metadata": {},
     "output_type": "display_data"
    },
    {
     "name": "stderr",
     "output_type": "stream",
     "text": [
      "Sampling 5 chains for 1_000 tune and 1_000 draw iterations (5_000 + 5_000 draws total) took 13 seconds.\n",
      "Auto-assigning NUTS sampler...\n",
      "Initializing NUTS using jitter+adapt_diag...\n",
      "Multiprocess sampling (5 chains in 5 jobs)\n",
      "NUTS: [effect_size, prevalence]\n"
     ]
    },
    {
     "data": {
      "application/vnd.jupyter.widget-view+json": {
       "model_id": "4e71583ecfb1417bab7ae80cb9dd9b73",
       "version_major": 2,
       "version_minor": 0
      },
      "text/plain": [
       "Output()"
      ]
     },
     "metadata": {},
     "output_type": "display_data"
    },
    {
     "data": {
      "text/html": [
       "<pre style=\"white-space:pre;overflow-x:auto;line-height:normal;font-family:Menlo,'DejaVu Sans Mono',consolas,'Courier New',monospace\"></pre>\n"
      ],
      "text/plain": []
     },
     "metadata": {},
     "output_type": "display_data"
    },
    {
     "data": {
      "text/html": [
       "<pre style=\"white-space:pre;overflow-x:auto;line-height:normal;font-family:Menlo,'DejaVu Sans Mono',consolas,'Courier New',monospace\">\n",
       "</pre>\n"
      ],
      "text/plain": [
       "\n"
      ]
     },
     "metadata": {},
     "output_type": "display_data"
    },
    {
     "name": "stderr",
     "output_type": "stream",
     "text": [
      "Sampling 5 chains for 1_000 tune and 1_000 draw iterations (5_000 + 5_000 draws total) took 13 seconds.\n",
      "Auto-assigning NUTS sampler...\n",
      "Initializing NUTS using jitter+adapt_diag...\n",
      "Multiprocess sampling (5 chains in 5 jobs)\n",
      "NUTS: [effect_size, prevalence]\n"
     ]
    },
    {
     "data": {
      "application/vnd.jupyter.widget-view+json": {
       "model_id": "48b4f182c1084d7da0b09352154b078b",
       "version_major": 2,
       "version_minor": 0
      },
      "text/plain": [
       "Output()"
      ]
     },
     "metadata": {},
     "output_type": "display_data"
    },
    {
     "data": {
      "text/html": [
       "<pre style=\"white-space:pre;overflow-x:auto;line-height:normal;font-family:Menlo,'DejaVu Sans Mono',consolas,'Courier New',monospace\"></pre>\n"
      ],
      "text/plain": []
     },
     "metadata": {},
     "output_type": "display_data"
    },
    {
     "data": {
      "text/html": [
       "<pre style=\"white-space:pre;overflow-x:auto;line-height:normal;font-family:Menlo,'DejaVu Sans Mono',consolas,'Courier New',monospace\">\n",
       "</pre>\n"
      ],
      "text/plain": [
       "\n"
      ]
     },
     "metadata": {},
     "output_type": "display_data"
    },
    {
     "name": "stderr",
     "output_type": "stream",
     "text": [
      "Sampling 5 chains for 1_000 tune and 1_000 draw iterations (5_000 + 5_000 draws total) took 13 seconds.\n",
      "Auto-assigning NUTS sampler...\n",
      "Initializing NUTS using jitter+adapt_diag...\n",
      "Multiprocess sampling (5 chains in 5 jobs)\n",
      "NUTS: [effect_size, prevalence]\n"
     ]
    },
    {
     "data": {
      "application/vnd.jupyter.widget-view+json": {
       "model_id": "c279460a1b2a49018d3f8d16a7ff81bf",
       "version_major": 2,
       "version_minor": 0
      },
      "text/plain": [
       "Output()"
      ]
     },
     "metadata": {},
     "output_type": "display_data"
    },
    {
     "data": {
      "text/html": [
       "<pre style=\"white-space:pre;overflow-x:auto;line-height:normal;font-family:Menlo,'DejaVu Sans Mono',consolas,'Courier New',monospace\"></pre>\n"
      ],
      "text/plain": []
     },
     "metadata": {},
     "output_type": "display_data"
    },
    {
     "data": {
      "text/html": [
       "<pre style=\"white-space:pre;overflow-x:auto;line-height:normal;font-family:Menlo,'DejaVu Sans Mono',consolas,'Courier New',monospace\">\n",
       "</pre>\n"
      ],
      "text/plain": [
       "\n"
      ]
     },
     "metadata": {},
     "output_type": "display_data"
    },
    {
     "name": "stderr",
     "output_type": "stream",
     "text": [
      "Sampling 5 chains for 1_000 tune and 1_000 draw iterations (5_000 + 5_000 draws total) took 11 seconds.\n"
     ]
    }
   ],
   "source": [
    "# ceate emmpty lists in which to aggregate results across time \n",
    "prev = []\n",
    "prev_given_H0 = []\n",
    "prev_given_H1 = []\n",
    "\n",
    "# should use uncorrected p-values for time-by-time inference\n",
    "# (since we want p-val distribution to be uniform under the\n",
    "# null hypothesis to meet assumptions of our Bayesian model)\n",
    "ps_eeg_uncorr = (H0 >= H0[0]).mean(0) \n",
    "ps_eeg_uncorr[ps_eeg_uncorr == 1] -= 1e-7\n",
    "\n",
    "for t in range(times.size):\n",
    "    # fit within-group prevalence model at each timepoint\n",
    "    mod = PCurveWithinGroupDifference(ps_behav, ps_eeg_uncorr[t], progressbar = False)\n",
    "    mod.fit()\n",
    "    # save posterior samples for conditional probabilities\n",
    "    prev.append(mod.prevalence_H2)\n",
    "    prev_given_H0.append(mod.prob_H2_given_H0)\n",
    "    prev_given_H1.append(mod.prob_H2_given_H1)"
   ]
  },
  {
   "cell_type": "code",
   "execution_count": 11,
   "id": "e2a45fbe-3210-41cc-8eaa-4f047b779806",
   "metadata": {},
   "outputs": [
    {
     "name": "stderr",
     "output_type": "stream",
     "text": [
      "/tmp/ipykernel_166487/638856069.py:23: FutureWarning: hdi currently interprets 2d data as (draw, shape) but this will change in a future release to (chain, draw) for coherence with other functions\n",
      "  hdi = az.hdi(samples, hdi_prob = .95)\n",
      "/tmp/ipykernel_166487/638856069.py:23: FutureWarning: hdi currently interprets 2d data as (draw, shape) but this will change in a future release to (chain, draw) for coherence with other functions\n",
      "  hdi = az.hdi(samples, hdi_prob = .95)\n",
      "/tmp/ipykernel_166487/638856069.py:23: FutureWarning: hdi currently interprets 2d data as (draw, shape) but this will change in a future release to (chain, draw) for coherence with other functions\n",
      "  hdi = az.hdi(samples, hdi_prob = .95)\n"
     ]
    },
    {
     "data": {
      "image/png": "[encoded data removed]",
      "text/plain": [
       "<Figure size 1200x1200 with 4 Axes>"
      ]
     },
     "metadata": {},
     "output_type": "display_data"
    }
   ],
   "source": [
    "prev_both = np.stack(prev, axis = 1) \n",
    "prev1 = np.stack(prev_given_H1, axis = 1) \n",
    "prev0 = np.stack(prev_given_H0, axis = 1)\n",
    "delta = prev1 - prev0\n",
    "prob_diff = (delta > 0).mean(0)\n",
    "max_idx = np.argmax(prob_diff)\n",
    "\n",
    "plt.rcParams['font.family'] = 'serif'\n",
    "plt.rcParams['font.serif'] = ['Times New Roman'] + plt.rcParams['font.serif']\n",
    "plt.rcParams.update({'font.size': 12})\n",
    "\n",
    "def add_label(ax, label, x_offset = -.125, y_offset = 0, size = 30):\n",
    "    xmin, xmax = ax.get_xlim()\n",
    "    xscale = xmax - xmin\n",
    "    ymin, ymax = ax.get_ylim()\n",
    "    yscale = ymax - ymin\n",
    "    ax.text(\n",
    "        xmin + x_offset*xscale, ymax + yscale*y_offset, \n",
    "        label, size = size, weight = 'bold'\n",
    "    )\n",
    "    \n",
    "def plot_posterior(ax, samples, color = 'blue', offset = 0, label = ''):\n",
    "    hdi = az.hdi(samples, hdi_prob = .95)\n",
    "    ax.plot(times + offset, samples.mean(0), color = color, label = label)\n",
    "    if label == 'total prevalence':\n",
    "        ax.vlines(times + offset, hdi[:, 0], hdi[:, 1], color = color, alpha = .8)\n",
    "\n",
    "\n",
    "fig = plt.figure(figsize = (12, 12))\n",
    "gs = gridspec.GridSpec(2, 5, wspace = .6, hspace = .2)\n",
    "\n",
    "ax = fig.add_subplot(gs[0, :3])\n",
    "for i in range(H0.shape[-1]):\n",
    "    label = 'individual subjects' if i == 0 else None\n",
    "    ax.plot(times, H0[0, :, i], color = 'gray', alpha = .25, label = label)\n",
    "auroc = H0.mean(-1)[0]\n",
    "auroc_se = H0.std(-1)[0]/np.sqrt(H0.shape[-1])\n",
    "ax.plot(times, auroc, label = 'group mean')\n",
    "ax.fill_between(times, auroc - 2*auroc_se, auroc + 2*auroc_se, alpha = .5, label = '95% confidence interval')\n",
    "ax.set_ylabel('decoding AUROC')\n",
    "ax.set_xlabel('time from stimulation onset (s)')\n",
    "# compute group-level familywise error rate corrected threshold\n",
    "h0 = H0.mean(-1) # average null samples across subjects\n",
    "h0_max = h0.max(1) # max stat across time re Nichols & Holmes (2002)\n",
    "auroc_max_alpha = 0.001 # and FWER thres is 1 - alpha quantile of null\n",
    "auroc_max_thres = np.quantile(h0_max, 1 - auroc_max_alpha)\n",
    "ax.axhline(auroc_max_thres, color = 'goldenrod', label = r'group $\\alpha_{FWER}$ = %.03f cutoff'%auroc_max_alpha)\n",
    "ax.axhline(0.5, color = 'black', label = 'chance', linestyle = '--')\n",
    "ax.legend(loc = 'lower right')\n",
    "add_label(ax, 'a')\n",
    "add_label(ax, 'b', 1.05)\n",
    "\n",
    "# plot whole-epoch prevalence results\n",
    "ax = fig.add_subplot(gs[0, -2:])\n",
    "sns.kdeplot(x = decoding_prev, ax = ax, color = 'grey', fill = True)\n",
    "hdi = az.hdi(decoding_prev, hdi_prob = .95)\n",
    "ax.hlines(.025, hdi[0], hdi[1], label = '95% HDI', color = 'black')\n",
    "ax.set_ylabel('posterior density')\n",
    "ax.yaxis.set_label_coords(-.125, .5)\n",
    "ax.set_xlabel('population prevalence (full epoch)')\n",
    "ax.set_xlim(0, 1)\n",
    "ax.legend(loc = 'upper left')\n",
    "\n",
    "ax = fig.add_subplot(gs[1, :3])\n",
    "plot_posterior(ax, prev_both, 'firebrick', label = r'total prevalence')\n",
    "plot_posterior(ax, prev0, 'darkslategrey', label = r'given behavior is $H_0$')\n",
    "plot_posterior(ax, prev1, 'deepskyblue', label = r'given behavior is $H_1$')\n",
    "ax.set_xlabel('time from stimulation onset (s)')\n",
    "ax.set_ylabel('population prevalence (time-by-time)')\n",
    "xmin, xmax = ax.get_xlim()\n",
    "xrange = np.abs(xmax - xmin)\n",
    "t = (times[max_idx] - xmin)/xrange\n",
    "ax.axhline(prev0.mean(0)[max_idx], xmin = t, color = 'darkslategrey', linestyle = 'dotted')\n",
    "ax.axhline(prev1.mean(0)[max_idx], xmin = t, color = 'deepskyblue', linestyle = 'dotted')\n",
    "ax.axhline(.5, label = '50% & 100% prevalence', color = 'black')\n",
    "ax.axhline(1., color = 'black')\n",
    "ax.legend()\n",
    "ax.set_ylim(0, 1.5)\n",
    "ymin, ymax = ax.get_ylim()\n",
    "add_label(ax, 'c')\n",
    "add_label(ax, 'd', 1.05)\n",
    "\n",
    "ymin -= prev0.mean(0)[max_idx]\n",
    "ymax -= prev0.mean(0)[max_idx]\n",
    "ax = fig.add_subplot(gs[1, -2:])\n",
    "ax.set_ylim(ymin, ymax)\n",
    "ax.axhline(0, color = 'darkslategrey', linestyle = 'dotted')\n",
    "ax.axhline(prev1.mean(0)[max_idx] - prev0.mean(0)[max_idx], color = 'deepskyblue', linestyle = 'dotted')\n",
    "ax.set_ylabel('prevalence difference')\n",
    "ax.set_xlabel('posterior density')\n",
    "ax.yaxis.set_label_coords(-.125, .5)\n",
    "sns.kdeplot(y = delta[:, max_idx], ax = ax, color = 'grey', fill = True)\n",
    "hdi = az.hdi(delta[:, max_idx])\n",
    "ax.vlines(.012, hdi[0], hdi[1], color = 'black', label = '95% HDI')\n",
    "ax.legend()\n",
    "\n",
    "f = os.path.join('figures', 'eeg-decoding.jpeg')\n",
    "plt.savefig(f, dpi = 500, bbox_inches = 'tight')\n",
    "plt.show()"
   ]
  },
  {
   "cell_type": "code",
   "execution_count": 12,
   "id": "afbe3a25-8ea4-4a5f-a3be-b11fd2d295b0",
   "metadata": {},
   "outputs": [
    {
     "name": "stdout",
     "output_type": "stream",
     "text": [
      "At 0.033 seconds the prevalence difference is\n",
      "mean = 0.458, HDI = [0.016, 0.861]\n"
     ]
    }
   ],
   "source": [
    "def print_mean_hdi(x):\n",
    "    m = x.mean()\n",
    "    hdi = az.hdi(x)\n",
    "    print('mean = %.03f, HDI = [%.03f, %.03f]'%(m, hdi[0], hdi[1]))\n",
    "    \n",
    "print('At %.03f seconds the prevalence difference is'%times[max_idx])\n",
    "print_mean_hdi(delta[:, max_idx])"
   ]
  },
  {
   "cell_type": "code",
   "execution_count": 13,
   "id": "701b3581-3c16-458e-a360-c6be528ec158",
   "metadata": {},
   "outputs": [
    {
     "name": "stdout",
     "output_type": "stream",
     "text": [
      "given H1 is false, H2 prevalence is:\n",
      "mean = 0.361, HDI = [0.022, 0.688]\n"
     ]
    }
   ],
   "source": [
    "print('given H1 is false, H2 prevalence is:')\n",
    "print_mean_hdi(prev0[:, max_idx])"
   ]
  },
  {
   "cell_type": "code",
   "execution_count": 14,
   "id": "cf4ef0f3-7abc-4abc-a71a-c742b6d1b4fc",
   "metadata": {},
   "outputs": [
    {
     "name": "stdout",
     "output_type": "stream",
     "text": [
      "given H1 is true, H2 prevalence is:\n",
      "mean = 0.820, HDI = [0.588, 1.000]\n"
     ]
    }
   ],
   "source": [
    "print('given H1 is true, H2 prevalence is:')\n",
    "print_mean_hdi(prev1[:, max_idx])"
   ]
  },
  {
   "cell_type": "code",
   "execution_count": 15,
   "id": "ae8bf773-23f5-4fa8-977d-69a6f61b9995",
   "metadata": {},
   "outputs": [
    {
     "name": "stdout",
     "output_type": "stream",
     "text": [
      "while total prevalence is:\n",
      "mean = 0.667, HDI = [0.462, 0.874]\n"
     ]
    }
   ],
   "source": [
    "print('while total prevalence is:')\n",
    "print_mean_hdi(prev_both[:, max_idx])"
   ]
  },
  {
   "cell_type": "markdown",
   "id": "3f12f204-1409-416a-b663-7a6910749f66",
   "metadata": {},
   "source": [
    "A last note is that, while it is redundant to report a post-hoc power estimate for a group-mean significance test, it is perfectly valid to estimate the Bayesian predictive power of a within-subject NHST given repeated observations of within-subject _p_-values. This is particularly handy for analyses/tests for which it would otherwise be hard to estimate power, such as permutation tests on EEG decoding results as we have here.\n",
    "\n",
    "Predictive power calculations are not currently implemented in the `PCurveWithinGroupDifference` class, but they are implemented in the standard `PCurveMixture` class."
   ]
  },
  {
   "cell_type": "code",
   "execution_count": 16,
   "id": "335dcf69-b446-42d1-ab4c-bc99ad2f3a45",
   "metadata": {},
   "outputs": [
    {
     "name": "stderr",
     "output_type": "stream",
     "text": [
      "Auto-assigning NUTS sampler...\n",
      "Initializing NUTS using jitter+adapt_diag...\n",
      "Multiprocess sampling (5 chains in 5 jobs)\n",
      "NUTS: [effect_size, prevalence]\n"
     ]
    },
    {
     "data": {
      "application/vnd.jupyter.widget-view+json": {
       "model_id": "8e8dd3c0070744869ed68d0944d8c2fd",
       "version_major": 2,
       "version_minor": 0
      },
      "text/plain": [
       "Output()"
      ]
     },
     "metadata": {},
     "output_type": "display_data"
    },
    {
     "data": {
      "text/html": [
       "<pre style=\"white-space:pre;overflow-x:auto;line-height:normal;font-family:Menlo,'DejaVu Sans Mono',consolas,'Courier New',monospace\"></pre>\n"
      ],
      "text/plain": []
     },
     "metadata": {},
     "output_type": "display_data"
    },
    {
     "data": {
      "text/html": [
       "<pre style=\"white-space:pre;overflow-x:auto;line-height:normal;font-family:Menlo,'DejaVu Sans Mono',consolas,'Courier New',monospace\">\n",
       "</pre>\n"
      ],
      "text/plain": [
       "\n"
      ]
     },
     "metadata": {},
     "output_type": "display_data"
    },
    {
     "name": "stderr",
     "output_type": "stream",
     "text": [
      "Sampling 5 chains for 1_000 tune and 1_000 draw iterations (5_000 + 5_000 draws total) took 8 seconds.\n"
     ]
    },
    {
     "data": {
      "application/vnd.jupyter.widget-view+json": {
       "model_id": "fba05176085147abb88fef408415abd4",
       "version_major": 2,
       "version_minor": 0
      },
      "text/plain": [
       "Output()"
      ]
     },
     "metadata": {},
     "output_type": "display_data"
    },
    {
     "data": {
      "text/html": [
       "<pre style=\"white-space:pre;overflow-x:auto;line-height:normal;font-family:Menlo,'DejaVu Sans Mono',consolas,'Courier New',monospace\"></pre>\n"
      ],
      "text/plain": []
     },
     "metadata": {},
     "output_type": "display_data"
    },
    {
     "data": {
      "text/html": [
       "<pre style=\"white-space:pre;overflow-x:auto;line-height:normal;font-family:Menlo,'DejaVu Sans Mono',consolas,'Courier New',monospace\">\n",
       "</pre>\n"
      ],
      "text/plain": [
       "\n"
      ]
     },
     "metadata": {},
     "output_type": "display_data"
    },
    {
     "name": "stdout",
     "output_type": "stream",
     "text": [
      "Posterior predictive power at alpha = 0.05 has expectation = 0.956, 95% HDI: [0.91837599 0.98847378]\n"
     ]
    }
   ],
   "source": [
    "from p2prev import PCurveMixture\n",
    "mod = PCurveMixture(ps_eeg_sub, target_accept = .95)\n",
    "mod.fit()\n",
    "\n",
    "alpha = 0.05 # false positive rate at which to estimate power\n",
    "hdi_prob = .95\n",
    "m = mod.posterior_predictive_power(alpha).power.mean()\n",
    "hdi = mod.posterior_predictive_power_hdi(alpha, hdi_prob)\n",
    "print('Posterior predictive power at alpha = %.02f has expectation = %.03f, %d%% HDI:'%(alpha, m, 100*hdi_prob), hdi)"
   ]
  },
  {
   "cell_type": "markdown",
   "id": "46629985-2147-4b89-9c78-a6d6fed273ad",
   "metadata": {},
   "source": [
    "Note that this power estimate pertains to replications of the same within-subject experimental design; it is not simple to extend this approach to estimate what power _would_ be with e.g. a larger trial count. However, since it's a Bayesian estimate, you get a credible interval too! (Unlike most power analyses, which yield point estimates without uncertainty quantification... even though most power calculations based on small pilot samples can [vary hugely from actual power](https://doi.org/10.1177/1745691614528520).) "
   ]
  }
 ],
 "metadata": {
  "kernelspec": {
   "display_name": "Python 3 (ipykernel)",
   "language": "python",
   "name": "python3"
  },
  "language_info": {
   "codemirror_mode": {
    "name": "ipython",
    "version": 3
   },
   "file_extension": ".py",
   "mimetype": "text/x-python",
   "name": "python",
   "nbconvert_exporter": "python",
   "pygments_lexer": "ipython3",
   "version": "3.12.2"
  }
 },
 "nbformat": 4,
 "nbformat_minor": 5
}
