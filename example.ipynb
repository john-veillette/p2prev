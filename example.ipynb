{
 "cells": [
  {
   "cell_type": "markdown",
   "id": "14d7e271-fe01-4369-9a3d-f429df8b72d3",
   "metadata": {},
   "source": [
    "### P-curve Mixture Model for population prevalance estimation"
   ]
  },
  {
   "cell_type": "code",
   "execution_count": 1,
   "id": "b50d0879-5922-4a0a-9085-46b2f66f1963",
   "metadata": {},
   "outputs": [],
   "source": [
    "from matplotlib import pyplot as plt\n",
    "import seaborn as sns\n",
    "import numpy as np\n",
    "import pandas as pd\n",
    "\n",
    "from p2prev import PCurveMixture"
   ]
  },
  {
   "cell_type": "code",
   "execution_count": 2,
   "id": "10641ea0-b00b-46e9-a575-f98ce63c46c6",
   "metadata": {},
   "outputs": [],
   "source": [
    "pvals = [0.00060, 0.02999, 0.04939, 0.94601]\n",
    "pvals = np.array(pvals)\n",
    "\n",
    "# intialize model with observed p-values,\n",
    "# a prior on the scale of the effect size,\n",
    "# and any valid arguments to pymc.sample()\n",
    "model = PCurveMixture(pvals, effect_size_prior = 1.5, target_accept = .95)"
   ]
  },
  {
   "cell_type": "code",
   "execution_count": 3,
   "id": "7dc3ebe3-3da9-4479-b49f-8781217650eb",
   "metadata": {},
   "outputs": [
    {
     "data": {
      "image/png": "[encoded data removed]",
      "text/plain": [
       "<Figure size 640x480 with 1 Axes>"
      ]
     },
     "metadata": {},
     "output_type": "display_data"
    },
    {
     "name": "stdout",
     "output_type": "stream",
     "text": [
      "Prior predictive power at 0.05, 90% HDI: [0.05001588 0.96062395]\n"
     ]
    }
   ],
   "source": [
    "def plot_power_simulation(pow_df, alpha):\n",
    "    sns.kdeplot(data = pow_df, x = 'power', y = 'prevalence', fill = True)\n",
    "    plt.xlabel(r'power at $\\alpha = %.02f$'%alpha)\n",
    "    plt.ylabel('population prevalence')\n",
    "    plt.xlim(0, 1)\n",
    "    plt.ylim(0, 1)\n",
    "    plt.show()\n",
    "\n",
    "alpha = .05\n",
    "pow_df = model.prior_predictive_power(alpha)\n",
    "plot_power_simulation(pow_df, alpha)\n",
    "\n",
    "hdi_prob = .9\n",
    "hdi = model.prior_predictive_power_hdi(alpha, hdi_prob)\n",
    "print('Prior predictive power at %.02f, %d%% HDI:'%(alpha, 100*hdi_prob), hdi)"
   ]
  },
  {
   "cell_type": "code",
   "execution_count": 4,
   "id": "5cb4d23c-9298-4752-bf70-63817c63cca7",
   "metadata": {},
   "outputs": [
    {
     "name": "stderr",
     "output_type": "stream",
     "text": [
      "Auto-assigning NUTS sampler...\n",
      "Initializing NUTS using jitter+adapt_diag...\n",
      "Multiprocess sampling (5 chains in 5 jobs)\n",
      "NUTS: [effect_size, prevalence]\n"
     ]
    },
    {
     "data": {
      "application/vnd.jupyter.widget-view+json": {
       "model_id": "b55cc98d6fd3431d937c8ccc60149e12",
       "version_major": 2,
       "version_minor": 0
      },
      "text/plain": [
       "Output()"
      ]
     },
     "metadata": {},
     "output_type": "display_data"
    },
    {
     "data": {
      "text/html": [
       "<pre style=\"white-space:pre;overflow-x:auto;line-height:normal;font-family:Menlo,'DejaVu Sans Mono',consolas,'Courier New',monospace\"></pre>\n"
      ],
      "text/plain": []
     },
     "metadata": {},
     "output_type": "display_data"
    },
    {
     "data": {
      "text/html": [
       "<pre style=\"white-space:pre;overflow-x:auto;line-height:normal;font-family:Menlo,'DejaVu Sans Mono',consolas,'Courier New',monospace\">\n",
       "</pre>\n"
      ],
      "text/plain": [
       "\n"
      ]
     },
     "metadata": {},
     "output_type": "display_data"
    },
    {
     "name": "stderr",
     "output_type": "stream",
     "text": [
      "Sampling 5 chains for 1_000 tune and 1_000 draw iterations (5_000 + 5_000 draws total) took 9 seconds.\n"
     ]
    },
    {
     "data": {
      "application/vnd.jupyter.widget-view+json": {
       "model_id": "8ab79da2cbc843fa8592a9e348dee2d3",
       "version_major": 2,
       "version_minor": 0
      },
      "text/plain": [
       "Output()"
      ]
     },
     "metadata": {},
     "output_type": "display_data"
    },
    {
     "data": {
      "text/html": [
       "<pre style=\"white-space:pre;overflow-x:auto;line-height:normal;font-family:Menlo,'DejaVu Sans Mono',consolas,'Courier New',monospace\"></pre>\n"
      ],
      "text/plain": []
     },
     "metadata": {},
     "output_type": "display_data"
    },
    {
     "data": {
      "text/html": [
       "<pre style=\"white-space:pre;overflow-x:auto;line-height:normal;font-family:Menlo,'DejaVu Sans Mono',consolas,'Courier New',monospace\">\n",
       "</pre>\n"
      ],
      "text/plain": [
       "\n"
      ]
     },
     "metadata": {},
     "output_type": "display_data"
    },
    {
     "data": {
      "text/html": [
       "<div>\n",
       "<style scoped>\n",
       "    .dataframe tbody tr th:only-of-type {\n",
       "        vertical-align: middle;\n",
       "    }\n",
       "\n",
       "    .dataframe tbody tr th {\n",
       "        vertical-align: top;\n",
       "    }\n",
       "\n",
       "    .dataframe thead th {\n",
       "        text-align: right;\n",
       "    }\n",
       "</style>\n",
       "<table border=\"1\" class=\"dataframe\">\n",
       "  <thead>\n",
       "    <tr style=\"text-align: right;\">\n",
       "      <th></th>\n",
       "      <th>mean</th>\n",
       "      <th>sd</th>\n",
       "      <th>hdi_3%</th>\n",
       "      <th>hdi_97%</th>\n",
       "      <th>mcse_mean</th>\n",
       "      <th>mcse_sd</th>\n",
       "      <th>ess_bulk</th>\n",
       "      <th>ess_tail</th>\n",
       "      <th>r_hat</th>\n",
       "    </tr>\n",
       "  </thead>\n",
       "  <tbody>\n",
       "    <tr>\n",
       "      <th>effect_size</th>\n",
       "      <td>2.037</td>\n",
       "      <td>0.687</td>\n",
       "      <td>0.704</td>\n",
       "      <td>3.257</td>\n",
       "      <td>0.014</td>\n",
       "      <td>0.010</td>\n",
       "      <td>2385.0</td>\n",
       "      <td>1371.0</td>\n",
       "      <td>1.0</td>\n",
       "    </tr>\n",
       "    <tr>\n",
       "      <th>prevalence</th>\n",
       "      <td>0.610</td>\n",
       "      <td>0.209</td>\n",
       "      <td>0.227</td>\n",
       "      <td>0.969</td>\n",
       "      <td>0.005</td>\n",
       "      <td>0.003</td>\n",
       "      <td>1866.0</td>\n",
       "      <td>1980.0</td>\n",
       "      <td>1.0</td>\n",
       "    </tr>\n",
       "  </tbody>\n",
       "</table>\n",
       "</div>"
      ],
      "text/plain": [
       "              mean     sd  hdi_3%  hdi_97%  mcse_mean  mcse_sd  ess_bulk  \\\n",
       "effect_size  2.037  0.687   0.704    3.257      0.014    0.010    2385.0   \n",
       "prevalence   0.610  0.209   0.227    0.969      0.005    0.003    1866.0   \n",
       "\n",
       "             ess_tail  r_hat  \n",
       "effect_size    1371.0    1.0  \n",
       "prevalence     1980.0    1.0  "
      ]
     },
     "execution_count": 4,
     "metadata": {},
     "output_type": "execute_result"
    }
   ],
   "source": [
    "model.fit()\n",
    "model.summary()"
   ]
  },
  {
   "cell_type": "code",
   "execution_count": 5,
   "id": "51df573e-d0c2-4ada-9ad6-61977c88e348",
   "metadata": {},
   "outputs": [
    {
     "data": {
      "image/png": "[encoded data removed]",
      "text/plain": [
       "<Figure size 640x480 with 1 Axes>"
      ]
     },
     "metadata": {},
     "output_type": "display_data"
    },
    {
     "name": "stdout",
     "output_type": "stream",
     "text": [
      "Posterior predictive power at 0.05, 90% HDI: [0.30667612 0.97987677]\n",
      "Posterior mean: 0.6252278005107439\n"
     ]
    }
   ],
   "source": [
    "pow_df = model.posterior_predictive_power(alpha)\n",
    "plot_power_simulation(pow_df, alpha)\n",
    "hdi = model.posterior_predictive_power_hdi(alpha, hdi_prob)\n",
    "print('Posterior predictive power at %.02f, %d%% HDI:'%(alpha, 100*hdi_prob), hdi)\n",
    "print('Posterior mean:', pow_df.power.mean())"
   ]
  },
  {
   "cell_type": "code",
   "execution_count": 6,
   "id": "d3bd47bb-b726-49e4-bdd1-ce7a0ea6c481",
   "metadata": {},
   "outputs": [
    {
     "name": "stderr",
     "output_type": "stream",
     "text": [
      "Auto-assigning NUTS sampler...\n",
      "Initializing NUTS using jitter+adapt_diag...\n",
      "Multiprocess sampling (5 chains in 5 jobs)\n",
      "NUTS: [effect_size]\n"
     ]
    },
    {
     "data": {
      "application/vnd.jupyter.widget-view+json": {
       "model_id": "8262a14e2f1742e29e62eb9892f4730b",
       "version_major": 2,
       "version_minor": 0
      },
      "text/plain": [
       "Output()"
      ]
     },
     "metadata": {},
     "output_type": "display_data"
    },
    {
     "data": {
      "text/html": [
       "<pre style=\"white-space:pre;overflow-x:auto;line-height:normal;font-family:Menlo,'DejaVu Sans Mono',consolas,'Courier New',monospace\"></pre>\n"
      ],
      "text/plain": []
     },
     "metadata": {},
     "output_type": "display_data"
    },
    {
     "data": {
      "text/html": [
       "<pre style=\"white-space:pre;overflow-x:auto;line-height:normal;font-family:Menlo,'DejaVu Sans Mono',consolas,'Courier New',monospace\">\n",
       "</pre>\n"
      ],
      "text/plain": [
       "\n"
      ]
     },
     "metadata": {},
     "output_type": "display_data"
    },
    {
     "name": "stderr",
     "output_type": "stream",
     "text": [
      "Sampling 5 chains for 1_000 tune and 1_000 draw iterations (5_000 + 5_000 draws total) took 6 seconds.\n"
     ]
    },
    {
     "data": {
      "application/vnd.jupyter.widget-view+json": {
       "model_id": "b00c5fce3b7d4595af92aa013676c365",
       "version_major": 2,
       "version_minor": 0
      },
      "text/plain": [
       "Output()"
      ]
     },
     "metadata": {},
     "output_type": "display_data"
    },
    {
     "data": {
      "text/html": [
       "<pre style=\"white-space:pre;overflow-x:auto;line-height:normal;font-family:Menlo,'DejaVu Sans Mono',consolas,'Courier New',monospace\"></pre>\n"
      ],
      "text/plain": []
     },
     "metadata": {},
     "output_type": "display_data"
    },
    {
     "data": {
      "text/html": [
       "<pre style=\"white-space:pre;overflow-x:auto;line-height:normal;font-family:Menlo,'DejaVu Sans Mono',consolas,'Courier New',monospace\">\n",
       "</pre>\n"
      ],
      "text/plain": [
       "\n"
      ]
     },
     "metadata": {},
     "output_type": "display_data"
    },
    {
     "data": {
      "text/html": [
       "<div>\n",
       "<style scoped>\n",
       "    .dataframe tbody tr th:only-of-type {\n",
       "        vertical-align: middle;\n",
       "    }\n",
       "\n",
       "    .dataframe tbody tr th {\n",
       "        vertical-align: top;\n",
       "    }\n",
       "\n",
       "    .dataframe thead th {\n",
       "        text-align: right;\n",
       "    }\n",
       "</style>\n",
       "<table border=\"1\" class=\"dataframe\">\n",
       "  <thead>\n",
       "    <tr style=\"text-align: right;\">\n",
       "      <th></th>\n",
       "      <th>rank</th>\n",
       "      <th>elpd_loo</th>\n",
       "      <th>p_loo</th>\n",
       "      <th>elpd_diff</th>\n",
       "      <th>weight</th>\n",
       "      <th>se</th>\n",
       "      <th>dse</th>\n",
       "      <th>warning</th>\n",
       "      <th>scale</th>\n",
       "    </tr>\n",
       "  </thead>\n",
       "  <tbody>\n",
       "    <tr>\n",
       "      <th>mixture</th>\n",
       "      <td>0</td>\n",
       "      <td>3.559673</td>\n",
       "      <td>1.631769</td>\n",
       "      <td>0.000000</td>\n",
       "      <td>8.985508e-01</td>\n",
       "      <td>3.237564</td>\n",
       "      <td>0.000000</td>\n",
       "      <td>False</td>\n",
       "      <td>log</td>\n",
       "    </tr>\n",
       "    <tr>\n",
       "      <th>all $H_1$</th>\n",
       "      <td>1</td>\n",
       "      <td>1.148199</td>\n",
       "      <td>2.867493</td>\n",
       "      <td>2.411474</td>\n",
       "      <td>1.594734e-16</td>\n",
       "      <td>4.783612</td>\n",
       "      <td>2.214460</td>\n",
       "      <td>False</td>\n",
       "      <td>log</td>\n",
       "    </tr>\n",
       "    <tr>\n",
       "      <th>all $H_0$</th>\n",
       "      <td>2</td>\n",
       "      <td>0.000000</td>\n",
       "      <td>0.000000</td>\n",
       "      <td>3.559673</td>\n",
       "      <td>1.014492e-01</td>\n",
       "      <td>0.000000</td>\n",
       "      <td>3.237564</td>\n",
       "      <td>False</td>\n",
       "      <td>log</td>\n",
       "    </tr>\n",
       "  </tbody>\n",
       "</table>\n",
       "</div>"
      ],
      "text/plain": [
       "           rank  elpd_loo     p_loo  elpd_diff        weight        se  \\\n",
       "mixture       0  3.559673  1.631769   0.000000  8.985508e-01  3.237564   \n",
       "all $H_1$     1  1.148199  2.867493   2.411474  1.594734e-16  4.783612   \n",
       "all $H_0$     2  0.000000  0.000000   3.559673  1.014492e-01  0.000000   \n",
       "\n",
       "                dse  warning scale  \n",
       "mixture    0.000000    False   log  \n",
       "all $H_1$  2.214460    False   log  \n",
       "all $H_0$  3.237564    False   log  "
      ]
     },
     "execution_count": 6,
     "metadata": {},
     "output_type": "execute_result"
    }
   ],
   "source": [
    "# we can also fit alternative (i.e. H1 or H0 only)\n",
    "# models and apply Bayesian model comparison\n",
    "model.fit_alternative()\n",
    "model.compare()"
   ]
  },
  {
   "cell_type": "markdown",
   "id": "0bc9e883-eb90-4b08-8e24-9e99f638bd70",
   "metadata": {},
   "source": [
    "According the the `arviz` docs, the above weights \"can be loosely interpreted as the probability of each model (among the compared model) given the data.\" But this interpretation may not make sense if you place a high prior probability on one model or another."
   ]
  },
  {
   "cell_type": "code",
   "execution_count": 7,
   "id": "b94e4f8a-4622-4465-a518-18867ab4d9e1",
   "metadata": {},
   "outputs": [
    {
     "data": {
      "image/png": "[encoded data removed]",
      "text/plain": [
       "<Figure size 600x300 with 1 Axes>"
      ]
     },
     "metadata": {},
     "output_type": "display_data"
    }
   ],
   "source": [
    "model.plot_compare()\n",
    "plt.show()"
   ]
  },
  {
   "cell_type": "markdown",
   "id": "4d5a3ba5-3db9-4582-9496-22cd5873e120",
   "metadata": {},
   "source": [
    "### Binomial Outcome Model "
   ]
  },
  {
   "cell_type": "markdown",
   "id": "aee6e133-522c-4c1b-88a3-0e5821c220e3",
   "metadata": {},
   "source": [
    "For comparison, we've implemented the binomial outcome model used by [Ince et al. (2021)](https://doi.org/10.7554/eLife.62461). As can be seen below, its population prevalance estimations can dramatically differ for the exact same data, depending on the arbitrary `alpha` used."
   ]
  },
  {
   "cell_type": "code",
   "execution_count": 8,
   "id": "9e21ca22-c435-41f7-bea0-3f33a53f1cf4",
   "metadata": {},
   "outputs": [
    {
     "name": "stderr",
     "output_type": "stream",
     "text": [
      "Auto-assigning NUTS sampler...\n",
      "Initializing NUTS using jitter+adapt_diag...\n",
      "Multiprocess sampling (5 chains in 5 jobs)\n",
      "NUTS: [prevalence, power]\n"
     ]
    },
    {
     "data": {
      "application/vnd.jupyter.widget-view+json": {
       "model_id": "82e6d525824548d696e92e97960e333a",
       "version_major": 2,
       "version_minor": 0
      },
      "text/plain": [
       "Output()"
      ]
     },
     "metadata": {},
     "output_type": "display_data"
    },
    {
     "data": {
      "text/html": [
       "<pre style=\"white-space:pre;overflow-x:auto;line-height:normal;font-family:Menlo,'DejaVu Sans Mono',consolas,'Courier New',monospace\"></pre>\n"
      ],
      "text/plain": []
     },
     "metadata": {},
     "output_type": "display_data"
    },
    {
     "data": {
      "text/html": [
       "<pre style=\"white-space:pre;overflow-x:auto;line-height:normal;font-family:Menlo,'DejaVu Sans Mono',consolas,'Courier New',monospace\">\n",
       "</pre>\n"
      ],
      "text/plain": [
       "\n"
      ]
     },
     "metadata": {},
     "output_type": "display_data"
    },
    {
     "name": "stderr",
     "output_type": "stream",
     "text": [
      "Sampling 5 chains for 1_000 tune and 1_000 draw iterations (5_000 + 5_000 draws total) took 6 seconds.\n"
     ]
    },
    {
     "data": {
      "text/html": [
       "<div>\n",
       "<style scoped>\n",
       "    .dataframe tbody tr th:only-of-type {\n",
       "        vertical-align: middle;\n",
       "    }\n",
       "\n",
       "    .dataframe tbody tr th {\n",
       "        vertical-align: top;\n",
       "    }\n",
       "\n",
       "    .dataframe thead th {\n",
       "        text-align: right;\n",
       "    }\n",
       "</style>\n",
       "<table border=\"1\" class=\"dataframe\">\n",
       "  <thead>\n",
       "    <tr style=\"text-align: right;\">\n",
       "      <th></th>\n",
       "      <th>mean</th>\n",
       "      <th>sd</th>\n",
       "      <th>hdi_3%</th>\n",
       "      <th>hdi_97%</th>\n",
       "      <th>mcse_mean</th>\n",
       "      <th>mcse_sd</th>\n",
       "      <th>ess_bulk</th>\n",
       "      <th>ess_tail</th>\n",
       "      <th>r_hat</th>\n",
       "    </tr>\n",
       "  </thead>\n",
       "  <tbody>\n",
       "    <tr>\n",
       "      <th>power</th>\n",
       "      <td>0.731</td>\n",
       "      <td>0.187</td>\n",
       "      <td>0.397</td>\n",
       "      <td>0.999</td>\n",
       "      <td>0.003</td>\n",
       "      <td>0.002</td>\n",
       "      <td>3561.0</td>\n",
       "      <td>2367.0</td>\n",
       "      <td>1.0</td>\n",
       "    </tr>\n",
       "    <tr>\n",
       "      <th>prevalence</th>\n",
       "      <td>0.721</td>\n",
       "      <td>0.194</td>\n",
       "      <td>0.382</td>\n",
       "      <td>1.000</td>\n",
       "      <td>0.003</td>\n",
       "      <td>0.002</td>\n",
       "      <td>3417.0</td>\n",
       "      <td>2202.0</td>\n",
       "      <td>1.0</td>\n",
       "    </tr>\n",
       "  </tbody>\n",
       "</table>\n",
       "</div>"
      ],
      "text/plain": [
       "             mean     sd  hdi_3%  hdi_97%  mcse_mean  mcse_sd  ess_bulk  \\\n",
       "power       0.731  0.187   0.397    0.999      0.003    0.002    3561.0   \n",
       "prevalence  0.721  0.194   0.382    1.000      0.003    0.002    3417.0   \n",
       "\n",
       "            ess_tail  r_hat  \n",
       "power         2367.0    1.0  \n",
       "prevalence    2202.0    1.0  "
      ]
     },
     "execution_count": 8,
     "metadata": {},
     "output_type": "execute_result"
    }
   ],
   "source": [
    "from p2prev._benchmarking import BinomialOutcomesModel\n",
    "k = (pvals <= alpha).sum()\n",
    "n = len(pvals)\n",
    "model = BinomialOutcomesModel(k, n, alpha)\n",
    "model.fit()\n",
    "model.summary()"
   ]
  },
  {
   "cell_type": "code",
   "execution_count": 9,
   "id": "774f9b66-64f1-4565-ae92-a079e426a4d5",
   "metadata": {},
   "outputs": [
    {
     "name": "stderr",
     "output_type": "stream",
     "text": [
      "Auto-assigning NUTS sampler...\n",
      "Initializing NUTS using jitter+adapt_diag...\n",
      "Multiprocess sampling (5 chains in 5 jobs)\n",
      "NUTS: [prevalence, power]\n"
     ]
    },
    {
     "data": {
      "application/vnd.jupyter.widget-view+json": {
       "model_id": "fe392c91415a494bbfffafb007433f8b",
       "version_major": 2,
       "version_minor": 0
      },
      "text/plain": [
       "Output()"
      ]
     },
     "metadata": {},
     "output_type": "display_data"
    },
    {
     "data": {
      "text/html": [
       "<pre style=\"white-space:pre;overflow-x:auto;line-height:normal;font-family:Menlo,'DejaVu Sans Mono',consolas,'Courier New',monospace\"></pre>\n"
      ],
      "text/plain": []
     },
     "metadata": {},
     "output_type": "display_data"
    },
    {
     "data": {
      "text/html": [
       "<pre style=\"white-space:pre;overflow-x:auto;line-height:normal;font-family:Menlo,'DejaVu Sans Mono',consolas,'Courier New',monospace\">\n",
       "</pre>\n"
      ],
      "text/plain": [
       "\n"
      ]
     },
     "metadata": {},
     "output_type": "display_data"
    },
    {
     "name": "stderr",
     "output_type": "stream",
     "text": [
      "Sampling 5 chains for 1_000 tune and 1_000 draw iterations (5_000 + 5_000 draws total) took 6 seconds.\n"
     ]
    },
    {
     "data": {
      "text/html": [
       "<div>\n",
       "<style scoped>\n",
       "    .dataframe tbody tr th:only-of-type {\n",
       "        vertical-align: middle;\n",
       "    }\n",
       "\n",
       "    .dataframe tbody tr th {\n",
       "        vertical-align: top;\n",
       "    }\n",
       "\n",
       "    .dataframe thead th {\n",
       "        text-align: right;\n",
       "    }\n",
       "</style>\n",
       "<table border=\"1\" class=\"dataframe\">\n",
       "  <thead>\n",
       "    <tr style=\"text-align: right;\">\n",
       "      <th></th>\n",
       "      <th>mean</th>\n",
       "      <th>sd</th>\n",
       "      <th>hdi_3%</th>\n",
       "      <th>hdi_97%</th>\n",
       "      <th>mcse_mean</th>\n",
       "      <th>mcse_sd</th>\n",
       "      <th>ess_bulk</th>\n",
       "      <th>ess_tail</th>\n",
       "      <th>r_hat</th>\n",
       "    </tr>\n",
       "  </thead>\n",
       "  <tbody>\n",
       "    <tr>\n",
       "      <th>power</th>\n",
       "      <td>0.516</td>\n",
       "      <td>0.257</td>\n",
       "      <td>0.126</td>\n",
       "      <td>0.997</td>\n",
       "      <td>0.005</td>\n",
       "      <td>0.004</td>\n",
       "      <td>2773.0</td>\n",
       "      <td>2238.0</td>\n",
       "      <td>1.0</td>\n",
       "    </tr>\n",
       "    <tr>\n",
       "      <th>prevalence</th>\n",
       "      <td>0.504</td>\n",
       "      <td>0.253</td>\n",
       "      <td>0.114</td>\n",
       "      <td>0.993</td>\n",
       "      <td>0.005</td>\n",
       "      <td>0.004</td>\n",
       "      <td>2548.0</td>\n",
       "      <td>2070.0</td>\n",
       "      <td>1.0</td>\n",
       "    </tr>\n",
       "  </tbody>\n",
       "</table>\n",
       "</div>"
      ],
      "text/plain": [
       "             mean     sd  hdi_3%  hdi_97%  mcse_mean  mcse_sd  ess_bulk  \\\n",
       "power       0.516  0.257   0.126    0.997      0.005    0.004    2773.0   \n",
       "prevalence  0.504  0.253   0.114    0.993      0.005    0.004    2548.0   \n",
       "\n",
       "            ess_tail  r_hat  \n",
       "power         2238.0    1.0  \n",
       "prevalence    2070.0    1.0  "
      ]
     },
     "execution_count": 9,
     "metadata": {},
     "output_type": "execute_result"
    }
   ],
   "source": [
    "lower_alpha = .01\n",
    "new_k = (pvals <= lower_alpha).sum()\n",
    "model = BinomialOutcomesModel(new_k, n, lower_alpha)\n",
    "model.fit()\n",
    "model.summary()"
   ]
  },
  {
   "cell_type": "code",
   "execution_count": 10,
   "id": "c73c91d8-4961-43de-8966-3a616aa16664",
   "metadata": {},
   "outputs": [
    {
     "data": {
      "image/png": "[encoded data removed]",
      "text/plain": [
       "<Figure size 640x480 with 1 Axes>"
      ]
     },
     "metadata": {},
     "output_type": "display_data"
    }
   ],
   "source": [
    "df = pd.DataFrame(dict(\n",
    "    power = model.power,\n",
    "    prevalence = model.prevalence\n",
    "))\n",
    "plot_power_simulation(df, lower_alpha)"
   ]
  },
  {
   "cell_type": "markdown",
   "id": "b9c3d50a-2b82-4d0a-b332-5ae80edc4ba3",
   "metadata": {},
   "source": [
    "The reason for this dependence, as shown above, is the large inverse correlation between power and prevalence in the posterior. The binomial model can't differentiate between higher-power/lower-prevalence and lower-power/higher-prevalence. "
   ]
  },
  {
   "cell_type": "code",
   "execution_count": null,
   "id": "0b3cdfb0-64d7-4ecd-9d03-23b2815e4018",
   "metadata": {},
   "outputs": [],
   "source": []
  }
 ],
 "metadata": {
  "kernelspec": {
   "display_name": "Python 3 (ipykernel)",
   "language": "python",
   "name": "python3"
  },
  "language_info": {
   "codemirror_mode": {
    "name": "ipython",
    "version": 3
   },
   "file_extension": ".py",
   "mimetype": "text/x-python",
   "name": "python",
   "nbconvert_exporter": "python",
   "pygments_lexer": "ipython3",
   "version": "3.12.2"
  }
 },
 "nbformat": 4,
 "nbformat_minor": 5
}
